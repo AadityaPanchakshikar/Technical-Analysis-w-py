{
  "cells": [
    {
      "cell_type": "markdown",
      "metadata": {
        "id": "view-in-github",
        "colab_type": "text"
      },
      "source": [
        "<a href=\"https://colab.research.google.com/github/AadityaPanchakshikar/Technical-Analysis-w-py/blob/main/Slope.ipynb\" target=\"_parent\"><img src=\"https://colab.research.google.com/assets/colab-badge.svg\" alt=\"Open In Colab\"/></a>"
      ]
    },
    {
      "cell_type": "code",
      "execution_count": null,
      "id": "3534db07",
      "metadata": {
        "id": "3534db07"
      },
      "outputs": [],
      "source": [
        "import pandas as pd\n",
        "import numpy as np\n",
        "import math\n",
        "import matplotlib.pyplot as plt"
      ]
    },
    {
      "cell_type": "code",
      "execution_count": null,
      "id": "5c13dcf3",
      "metadata": {
        "id": "5c13dcf3",
        "outputId": "f3e35654-318c-48fc-9ecf-c900ec0afa03"
      },
      "outputs": [
        {
          "data": {
            "text/html": [
              "<div>\n",
              "<style scoped>\n",
              "    .dataframe tbody tr th:only-of-type {\n",
              "        vertical-align: middle;\n",
              "    }\n",
              "\n",
              "    .dataframe tbody tr th {\n",
              "        vertical-align: top;\n",
              "    }\n",
              "\n",
              "    .dataframe thead th {\n",
              "        text-align: right;\n",
              "    }\n",
              "</style>\n",
              "<table border=\"1\" class=\"dataframe\">\n",
              "  <thead>\n",
              "    <tr style=\"text-align: right;\">\n",
              "      <th></th>\n",
              "      <th>Open</th>\n",
              "      <th>High</th>\n",
              "      <th>Low</th>\n",
              "      <th>Close</th>\n",
              "    </tr>\n",
              "  </thead>\n",
              "  <tbody>\n",
              "    <tr>\n",
              "      <th>0</th>\n",
              "      <td>1464.35</td>\n",
              "      <td>1464.40</td>\n",
              "      <td>1462.00</td>\n",
              "      <td>1463.50</td>\n",
              "    </tr>\n",
              "    <tr>\n",
              "      <th>1</th>\n",
              "      <td>1463.50</td>\n",
              "      <td>1465.75</td>\n",
              "      <td>1462.90</td>\n",
              "      <td>1465.70</td>\n",
              "    </tr>\n",
              "    <tr>\n",
              "      <th>2</th>\n",
              "      <td>1465.70</td>\n",
              "      <td>1465.70</td>\n",
              "      <td>1464.55</td>\n",
              "      <td>1465.00</td>\n",
              "    </tr>\n",
              "    <tr>\n",
              "      <th>3</th>\n",
              "      <td>1465.00</td>\n",
              "      <td>1465.00</td>\n",
              "      <td>1463.70</td>\n",
              "      <td>1464.45</td>\n",
              "    </tr>\n",
              "    <tr>\n",
              "      <th>4</th>\n",
              "      <td>1464.45</td>\n",
              "      <td>1465.50</td>\n",
              "      <td>1463.80</td>\n",
              "      <td>1464.90</td>\n",
              "    </tr>\n",
              "  </tbody>\n",
              "</table>\n",
              "</div>"
            ],
            "text/plain": [
              "      Open     High      Low    Close\n",
              "0  1464.35  1464.40  1462.00  1463.50\n",
              "1  1463.50  1465.75  1462.90  1465.70\n",
              "2  1465.70  1465.70  1464.55  1465.00\n",
              "3  1465.00  1465.00  1463.70  1464.45\n",
              "4  1464.45  1465.50  1463.80  1464.90"
            ]
          },
          "execution_count": 38,
          "metadata": {},
          "output_type": "execute_result"
        }
      ],
      "source": [
        "df = pd.read_csv(\"infy5min.csv\")\n",
        "df = df[['Open', 'High', 'Low', 'Close']]\n",
        "df.head(5)"
      ]
    },
    {
      "cell_type": "code",
      "execution_count": null,
      "id": "f5580b17",
      "metadata": {
        "id": "f5580b17",
        "outputId": "5fac140e-de73-4c6e-ffb6-aae875d553d9"
      },
      "outputs": [
        {
          "data": {
            "image/png": "[encoded data removed]",
            "text/plain": [
              "<Figure size 432x288 with 1 Axes>"
            ]
          },
          "metadata": {
            "needs_background": "light"
          },
          "output_type": "display_data"
        },
        {
          "name": "stdout",
          "output_type": "stream",
          "text": [
            "Slope: 18.013502837625726\n"
          ]
        }
      ],
      "source": [
        "x = df.index.to_series()\n",
        "y = df.Close\n",
        "slope, intercept = np.polyfit(x, y, 1)\n",
        "z = list(slope*x+intercept)\n",
        "x1 = list(x)\n",
        "plt.scatter(x, y, s=50)\n",
        "plt.plot(x1, z, \"r\")\n",
        "plt.show()\n",
        "deg = math.degrees(slope)\n",
        "print('Slope:', deg)"
      ]
    },
    {
      "cell_type": "code",
      "execution_count": null,
      "id": "2227a0ac",
      "metadata": {
        "id": "2227a0ac"
      },
      "outputs": [],
      "source": [
        "y = y.loc[::-1]"
      ]
    },
    {
      "cell_type": "code",
      "execution_count": null,
      "id": "b9538827",
      "metadata": {
        "id": "b9538827",
        "outputId": "258bf235-5be3-418c-d757-ca2012466a57"
      },
      "outputs": [
        {
          "data": {
            "image/png": "[encoded data removed]",
            "text/plain": [
              "<Figure size 432x288 with 1 Axes>"
            ]
          },
          "metadata": {
            "needs_background": "light"
          },
          "output_type": "display_data"
        },
        {
          "name": "stdout",
          "output_type": "stream",
          "text": [
            "Slope: -18.013502837629726\n"
          ]
        }
      ],
      "source": [
        "slope, intercept = np.polyfit(x, y, 1)\n",
        "z = list(slope*x+intercept)\n",
        "x1 = list(x)\n",
        "plt.scatter(x, y, s=50)\n",
        "plt.plot(x1, z, \"r\")\n",
        "plt.show()\n",
        "deg = math.degrees(slope)\n",
        "print('Slope:', deg)"
      ]
    },
    {
      "cell_type": "code",
      "execution_count": null,
      "id": "9d51017e",
      "metadata": {
        "id": "9d51017e"
      },
      "outputs": [],
      "source": []
    },
    {
      "cell_type": "code",
      "execution_count": null,
      "id": "1a5b63f4",
      "metadata": {
        "id": "1a5b63f4"
      },
      "outputs": [],
      "source": []
    }
  ],
  "metadata": {
    "kernelspec": {
      "display_name": "Python 3 (ipykernel)",
      "language": "python",
      "name": "python3"
    },
    "language_info": {
      "codemirror_mode": {
        "name": "ipython",
        "version": 3
      },
      "file_extension": ".py",
      "mimetype": "text/x-python",
      "name": "python",
      "nbconvert_exporter": "python",
      "pygments_lexer": "ipython3",
      "version": "3.9.12"
    },
    "colab": {
      "provenance": [],
      "include_colab_link": true
    }
  },
  "nbformat": 4,
  "nbformat_minor": 5
}