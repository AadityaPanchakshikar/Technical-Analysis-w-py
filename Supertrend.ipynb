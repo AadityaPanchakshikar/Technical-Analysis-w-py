{
  "cells": [
    {
      "cell_type": "markdown",
      "metadata": {
        "id": "view-in-github",
        "colab_type": "text"
      },
      "source": [
        "<a href=\"https://colab.research.google.com/github/AadityaPanchakshikar/Technical-Analysis-w-py/blob/main/Supertrend.ipynb\" target=\"_parent\"><img src=\"https://colab.research.google.com/assets/colab-badge.svg\" alt=\"Open In Colab\"/></a>"
      ]
    },
    {
      "cell_type": "markdown",
      "id": "b2e48a14",
      "metadata": {
        "id": "b2e48a14"
      },
      "source": [
        "# Supertrend"
      ]
    },
    {
      "cell_type": "markdown",
      "id": "a41993ec",
      "metadata": {
        "id": "a41993ec"
      },
      "source": [
        "-  Supertrend is a trend-following indicator<br>\n",
        "-  Uses Average True Range (ATR)\n",
        "-  Plotted either above or below the closing price\n",
        "-  Used primarily for Intra-day\n",
        "-  Uses Parameters ATR Period (7) and multiplier (3)\n",
        "-  Perfect for trending Markets"
      ]
    },
    {
      "cell_type": "markdown",
      "id": "3d03d73e",
      "metadata": {
        "id": "3d03d73e"
      },
      "source": [
        "### Formula\n",
        "##### Upper Band = (High + Low)/ 2 + multiplier * ATR\n",
        "##### Lower Band = (High + Low)/ 2 - multiplier * ATR\n",
        "<br>\n",
        "<br>"
      ]
    },
    {
      "cell_type": "code",
      "execution_count": null,
      "id": "9bb93e4c",
      "metadata": {
        "id": "9bb93e4c"
      },
      "outputs": [],
      "source": [
        "import pandas as pd\n",
        "import numpy as np\n",
        "\n",
        "# Mount Google Drive to access files\n",
        "from google.colab import drive\n",
        "drive.mount('/content/drive')\n",
        "\n",
        "import plotly.graph_objects as go\n",
        "file_path = '/content/drive/MyDrive/Colab Notebooks/Trading/Data/SampleNiftyData.csv'\n",
        "df = pd.read_csv(file_path, parse_dates=[\"date\"], index_col=\"date\")\n",
        "df.head(2)"
      ]
    },
    {
      "cell_type": "code",
      "execution_count": null,
      "id": "1737f84f",
      "metadata": {
        "id": "1737f84f"
      },
      "outputs": [],
      "source": [
        "def ATR(df, range_period):\n",
        "   df['High-Low']=df['high']-df['low']\n",
        "    df['High-Previous_Close']=abs(df['high']-df['close'].shift(1))\n",
        "    df['Low-Previous_Close']=abs(df['low']-df['close'].shift(1))\n",
        "    df['True_Range']=df[['High-Low','High-Previous_Close','Low-Previous_Close']].max(axis=1,skipna=False)\n",
        "    df['ATR'] = df['True_Range'].ewm(com=range_period,min_periods=range_period).mean()\n",
        "    return df"
      ]
    },
    {
      "cell_type": "code",
      "execution_count": null,
      "id": "4c371ed1",
      "metadata": {
        "id": "4c371ed1"
      },
      "outputs": [],
      "source": [
        "range_period = 7\n",
        "multiplier = 3\n",
        "df = ATR(df, range_period)\n",
        "df.dropna(inplace=True)\n",
        "df[['close', 'ATR']].tail(2)"
      ]
    },
    {
      "cell_type": "code",
      "execution_count": null,
      "id": "f922f6ad",
      "metadata": {
        "id": "f922f6ad"
      },
      "outputs": [],
      "source": [
        "df['basic_upper_band'] = (df.high + df.low) / 2 + multiplier * df['ATR']"
      ]
    },
    {
      "cell_type": "code",
      "execution_count": null,
      "id": "373d6089",
      "metadata": {
        "id": "373d6089"
      },
      "outputs": [],
      "source": [
        "df['final_upper_band'] = 0.00\n",
        "\n",
        "for i in range(range_period,len(df)):\n",
        "\n",
        "    if df['close'][i-1]<=df['final_upper_band'][i-1]:\n",
        "        # Shift band downwards if basic_upper_band is lower\n",
        "        df['final_upper_band'].iat[i] = min(df['basic_upper_band'].iat[i],df['final_upper_band'].iat[i-1])\n",
        "    else:\n",
        "        # Keep Basic Band Value\n",
        "        df['final_upper_band'].iat[i] = df['basic_upper_band'].iat[i]\n",
        "\n",
        "df.loc[df.index >= '2022-07-06',['close', 'final_upper_band', 'basic_upper_band']]"
      ]
    },
    {
      "cell_type": "code",
      "execution_count": null,
      "id": "0a11418e",
      "metadata": {
        "id": "0a11418e"
      },
      "outputs": [],
      "source": [
        "df['basic_lower_band'] = (df.high + df.low) / 2 - multiplier * df['ATR']\n",
        "df['final_lower_band'] = 0.00"
      ]
    },
    {
      "cell_type": "code",
      "execution_count": null,
      "id": "5b4bad6b",
      "metadata": {
        "id": "5b4bad6b"
      },
      "outputs": [],
      "source": [
        "for i in range(range_period,len(df)):\n",
        "\n",
        "    if df['close'][i-1]>=df['final_lower_band'][i-1]:\n",
        "        df['final_lower_band'].iat[i] = max(df['basic_lower_band'].iat[i],df['final_lower_band'].iat[i-1])\n",
        "                                        # Shift band upward if basic_lower_band is higher\n",
        "    else:\n",
        "        df['final_lower_band'].iat[i] = df['basic_lower_band'].iat[i] #keep Same\n",
        "\n",
        "df[['close', 'final_lower_band', 'basic_lower_band']].tail(10)"
      ]
    },
    {
      "cell_type": "markdown",
      "id": "7e477ca1",
      "metadata": {
        "id": "7e477ca1"
      },
      "source": [
        "<hr>\n",
        "<b><i> Calculate Super Trend for first row</i></b><br>\n",
        "-  if Previous close <= Previous FINAL UPPERBAND:<br>\n",
        "&emsp;&emsp;&emsp;&emsp;SuperTrend = final_upper_band<br>\n",
        "-  else:<br>\n",
        "&emsp;&emsp;&emsp;&emsp;SuperTrend = final_lower_band"
      ]
    },
    {
      "cell_type": "code",
      "execution_count": null,
      "id": "0500e44d",
      "metadata": {
        "id": "0500e44d"
      },
      "outputs": [],
      "source": [
        "df['SuperTrend']=np.nan\n",
        "if df['close'].iat[range_period]<=df['final_upper_band'].iat[range_period]:\n",
        "    df['SuperTrend'].iat[range_period+1]=df['final_upper_band'].iat[range_period+1]\n",
        "else:\n",
        "    df['SuperTrend'].iat[range_period+1]=df['final_lower_band'].iat[range_period+1]\n",
        "\n",
        "df[['close','final_upper_band', 'final_lower_band', 'SuperTrend']].head(10)"
      ]
    },
    {
      "cell_type": "markdown",
      "id": "97659cfb",
      "metadata": {
        "id": "97659cfb"
      },
      "source": [
        "<hr>\n",
        "<b><i>Calculate Super Trend for rest of the rows</b></i>"
      ]
    },
    {
      "cell_type": "code",
      "execution_count": null,
      "id": "70d4021f",
      "metadata": {
        "id": "70d4021f"
      },
      "outputs": [],
      "source": [
        "for i in range(range_period,len(df)):\n",
        "    if df['SuperTrend'].iat[i-1]==df['final_upper_band'].iat[i-1] and df['close'].iat[i]<=df['final_upper_band'].iat[i]:\n",
        "        df['SuperTrend'].iat[i]=df['final_upper_band'].iat[i] # Same Trend\n",
        "    elif  df['SuperTrend'].iat[i-1]==df['final_upper_band'].iat[i-1] and df['close'][i]>=df['final_upper_band'].iat[i]:\n",
        "        df['SuperTrend'].iat[i]=df['final_lower_band'].iat[i] # Trend Changed\n",
        "    elif df['SuperTrend'].iat[i-1]==df['final_lower_band'].iat[i-1] and df['close'][i]>=df['final_lower_band'].iat[i]:\n",
        "        df['SuperTrend'].iat[i]=df['final_lower_band'].iat[i] # Same Trend\n",
        "    elif df['SuperTrend'].iat[i-1]==df['final_lower_band'][i-1] and df['close'][i]<=df['final_lower_band'].iat[i]:\n",
        "        df['SuperTrend'].iat[i]=df['final_upper_band'].iat[i] # Trend Changed\n",
        "df.dropna(inplace=True)"
      ]
    },
    {
      "cell_type": "code",
      "execution_count": null,
      "id": "c5ea860c",
      "metadata": {
        "id": "c5ea860c"
      },
      "outputs": [],
      "source": [
        "df[['close', 'SuperTrend']].tail(10)"
      ]
    },
    {
      "cell_type": "markdown",
      "id": "0787065c",
      "metadata": {
        "id": "0787065c"
      },
      "source": [
        "## <b><i>Display in a chart</i></b>"
      ]
    },
    {
      "cell_type": "code",
      "execution_count": null,
      "id": "5381a489",
      "metadata": {
        "id": "5381a489"
      },
      "outputs": [],
      "source": [
        "df['direction'] = np.where(df.close >= df.SuperTrend, 'bullish','bearish')\n",
        "df['up'] = np.where(df.direction == 'bullish', df.SuperTrend, np.nan)\n",
        "df['down'] = np.where(df.direction == 'bearish', df.SuperTrend, np.nan)\n",
        "df['change'] = np.where((df.direction == 'bullish') & (df.direction.shift(1) == 'bearish'), 1, 0)\n",
        "df['change'] = np.where((df.direction == 'bearish') & (df.direction.shift(1) == 'bullish'), -1, df.change)\n",
        "df['change'] = df['change'].astype(int)\n",
        "df[['close', 'SuperTrend', 'direction', 'up', 'down', 'change']].sample(10)"
      ]
    },
    {
      "cell_type": "code",
      "execution_count": null,
      "id": "d1c14f9d",
      "metadata": {
        "id": "d1c14f9d"
      },
      "outputs": [],
      "source": [
        "df['close2'] = np.where(df.change == 0, 0, df.close)\n",
        "df['close2'] = np.where(df.change == -1, df.final_upper_band, df.close2)\n",
        "df['close2'] = np.where(df.change == 1, df.final_lower_band, df.close2)\n",
        "df['close3'] = df['close2']\n",
        "df['close3'] = np.where(df.close3 != 0, df.close3 + 150, df.close3)\n",
        "df['close4'] = df['close2']\n",
        "df['close4'] = np.where(df.close4 != 0, df.close4 - 150, df.close4)"
      ]
    }
  ],
  "metadata": {
    "kernelspec": {
      "display_name": "Python 3 (ipykernel)",
      "language": "python",
      "name": "python3"
    },
    "language_info": {
      "codemirror_mode": {
        "name": "ipython",
        "version": 3
      },
      "file_extension": ".py",
      "mimetype": "text/x-python",
      "name": "python",
      "nbconvert_exporter": "python",
      "pygments_lexer": "ipython3",
      "version": "3.9.12"
    },
    "colab": {
      "provenance": [],
      "include_colab_link": true
    }
  },
  "nbformat": 4,
  "nbformat_minor": 5
}