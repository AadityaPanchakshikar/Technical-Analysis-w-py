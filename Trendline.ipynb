{
  "cells": [
    {
      "cell_type": "markdown",
      "metadata": {
        "id": "view-in-github",
        "colab_type": "text"
      },
      "source": [
        "<a href=\"https://colab.research.google.com/github/AadityaPanchakshikar/Technical-Analysis-w-py/blob/main/Trendline.ipynb\" target=\"_parent\"><img src=\"https://colab.research.google.com/assets/colab-badge.svg\" alt=\"Open In Colab\"/></a>"
      ]
    },
    {
      "cell_type": "markdown",
      "id": "12f87c15",
      "metadata": {
        "id": "12f87c15"
      },
      "source": [
        "# Trendline"
      ]
    },
    {
      "cell_type": "code",
      "execution_count": null,
      "id": "f0b89e7f",
      "metadata": {
        "id": "f0b89e7f"
      },
      "outputs": [],
      "source": [
        "import pandas as pd\n",
        "import matplotlib.pyplot as plt\n",
        "import talib\n",
        "import numpy as np\n",
        "import warnings\n",
        "import math\n",
        "warnings.filterwarnings('ignore')\n",
        "import plotly.graph_objects as go\n",
        "from plotly.subplots import make_subplots"
      ]
    },
    {
      "cell_type": "code",
      "execution_count": null,
      "id": "4dbace8f",
      "metadata": {
        "id": "4dbace8f",
        "outputId": "8e961728-4b1c-425b-980b-9fa9e6df2c45"
      },
      "outputs": [
        {
          "data": {
            "text/html": [
              "<div>\n",
              "<style scoped>\n",
              "    .dataframe tbody tr th:only-of-type {\n",
              "        vertical-align: middle;\n",
              "    }\n",
              "\n",
              "    .dataframe tbody tr th {\n",
              "        vertical-align: top;\n",
              "    }\n",
              "\n",
              "    .dataframe thead th {\n",
              "        text-align: right;\n",
              "    }\n",
              "</style>\n",
              "<table border=\"1\" class=\"dataframe\">\n",
              "  <thead>\n",
              "    <tr style=\"text-align: right;\">\n",
              "      <th></th>\n",
              "      <th>Open</th>\n",
              "      <th>High</th>\n",
              "      <th>Low</th>\n",
              "      <th>Close</th>\n",
              "    </tr>\n",
              "    <tr>\n",
              "      <th>Date</th>\n",
              "      <th></th>\n",
              "      <th></th>\n",
              "      <th></th>\n",
              "      <th></th>\n",
              "    </tr>\n",
              "  </thead>\n",
              "  <tbody>\n",
              "    <tr>\n",
              "      <th>2022-09-05 09:15:00</th>\n",
              "      <td>17551</td>\n",
              "      <td>17616</td>\n",
              "      <td>17551</td>\n",
              "      <td>17612</td>\n",
              "    </tr>\n",
              "    <tr>\n",
              "      <th>2022-09-05 09:20:00</th>\n",
              "      <td>17613</td>\n",
              "      <td>17615</td>\n",
              "      <td>17584</td>\n",
              "      <td>17597</td>\n",
              "    </tr>\n",
              "    <tr>\n",
              "      <th>2022-09-05 09:25:00</th>\n",
              "      <td>17601</td>\n",
              "      <td>17608</td>\n",
              "      <td>17571</td>\n",
              "      <td>17595</td>\n",
              "    </tr>\n",
              "    <tr>\n",
              "      <th>2022-09-05 09:30:00</th>\n",
              "      <td>17595</td>\n",
              "      <td>17632</td>\n",
              "      <td>17592</td>\n",
              "      <td>17632</td>\n",
              "    </tr>\n",
              "    <tr>\n",
              "      <th>2022-09-05 09:35:00</th>\n",
              "      <td>17631</td>\n",
              "      <td>17639</td>\n",
              "      <td>17620</td>\n",
              "      <td>17627</td>\n",
              "    </tr>\n",
              "    <tr>\n",
              "      <th>2022-09-05 09:40:00</th>\n",
              "      <td>17627</td>\n",
              "      <td>17646</td>\n",
              "      <td>17625</td>\n",
              "      <td>17638</td>\n",
              "    </tr>\n",
              "    <tr>\n",
              "      <th>2022-09-05 09:45:00</th>\n",
              "      <td>17639</td>\n",
              "      <td>17641</td>\n",
              "      <td>17620</td>\n",
              "      <td>17622</td>\n",
              "    </tr>\n",
              "    <tr>\n",
              "      <th>2022-09-05 09:50:00</th>\n",
              "      <td>17622</td>\n",
              "      <td>17639</td>\n",
              "      <td>17609</td>\n",
              "      <td>17638</td>\n",
              "    </tr>\n",
              "    <tr>\n",
              "      <th>2022-09-05 09:55:00</th>\n",
              "      <td>17639</td>\n",
              "      <td>17644</td>\n",
              "      <td>17630</td>\n",
              "      <td>17635</td>\n",
              "    </tr>\n",
              "    <tr>\n",
              "      <th>2022-09-05 10:00:00</th>\n",
              "      <td>17634</td>\n",
              "      <td>17642</td>\n",
              "      <td>17632</td>\n",
              "      <td>17639</td>\n",
              "    </tr>\n",
              "  </tbody>\n",
              "</table>\n",
              "</div>"
            ],
            "text/plain": [
              "                      Open   High    Low  Close\n",
              "Date                                           \n",
              "2022-09-05 09:15:00  17551  17616  17551  17612\n",
              "2022-09-05 09:20:00  17613  17615  17584  17597\n",
              "2022-09-05 09:25:00  17601  17608  17571  17595\n",
              "2022-09-05 09:30:00  17595  17632  17592  17632\n",
              "2022-09-05 09:35:00  17631  17639  17620  17627\n",
              "2022-09-05 09:40:00  17627  17646  17625  17638\n",
              "2022-09-05 09:45:00  17639  17641  17620  17622\n",
              "2022-09-05 09:50:00  17622  17639  17609  17638\n",
              "2022-09-05 09:55:00  17639  17644  17630  17635\n",
              "2022-09-05 10:00:00  17634  17642  17632  17639"
            ]
          },
          "execution_count": 2,
          "metadata": {},
          "output_type": "execute_result"
        }
      ],
      "source": [
        "df = pd.read_csv(\"nifty5min.csv\")\n",
        "df = df[(df.Date > '2022-09-02 9:00:00') & (df.Date < '2022-09-06 15:30:00')]\n",
        "df.set_index(\"Date\", inplace=True)\n",
        "df = df[['Open', 'High', 'Low', 'Close']]\n",
        "df.head(10)"
      ]
    },
    {
      "cell_type": "code",
      "execution_count": null,
      "id": "9b5c9ff0",
      "metadata": {
        "id": "9b5c9ff0"
      },
      "outputs": [],
      "source": [
        "real = talib.HT_TRENDLINE(df.Close)\n",
        "df['trend'] = real\n",
        "df.dropna(inplace=True)"
      ]
    },
    {
      "cell_type": "code",
      "execution_count": null,
      "id": "5f39e186",
      "metadata": {
        "id": "5f39e186",
        "outputId": "d4b6987c-f586-4e85-8e7e-7050c958e7df"
      },
      "outputs": [
        {
          "data": {
            "text/plain": [
              "<AxesSubplot:xlabel='Date'>"
            ]
          },
          "execution_count": 4,
          "metadata": {},
          "output_type": "execute_result"
        },
        {
          "data": {
            "image/png": "[encoded data removed]",
            "text/plain": [
              "<Figure size 1296x648 with 1 Axes>"
            ]
          },
          "metadata": {
            "needs_background": "light"
          },
          "output_type": "display_data"
        }
      ],
      "source": [
        "df[['Close','trend']].plot(figsize=(18,9))"
      ]
    },
    {
      "cell_type": "code",
      "execution_count": null,
      "id": "73dd904d",
      "metadata": {
        "id": "73dd904d",
        "outputId": "0115e392-02d7-4a0b-e8a1-3f5018654030"
      },
      "outputs": [
        {
          "data": {
            "text/html": [
              "<div>\n",
              "<style scoped>\n",
              "    .dataframe tbody tr th:only-of-type {\n",
              "        vertical-align: middle;\n",
              "    }\n",
              "\n",
              "    .dataframe tbody tr th {\n",
              "        vertical-align: top;\n",
              "    }\n",
              "\n",
              "    .dataframe thead th {\n",
              "        text-align: right;\n",
              "    }\n",
              "</style>\n",
              "<table border=\"1\" class=\"dataframe\">\n",
              "  <thead>\n",
              "    <tr style=\"text-align: right;\">\n",
              "      <th></th>\n",
              "      <th>Open</th>\n",
              "      <th>High</th>\n",
              "      <th>Low</th>\n",
              "      <th>Close</th>\n",
              "      <th>trend</th>\n",
              "      <th>deg</th>\n",
              "    </tr>\n",
              "    <tr>\n",
              "      <th>Date</th>\n",
              "      <th></th>\n",
              "      <th></th>\n",
              "      <th></th>\n",
              "      <th></th>\n",
              "      <th></th>\n",
              "      <th></th>\n",
              "    </tr>\n",
              "  </thead>\n",
              "  <tbody>\n",
              "    <tr>\n",
              "      <th>2022-09-05 14:45:00</th>\n",
              "      <td>17670</td>\n",
              "      <td>17671</td>\n",
              "      <td>17662</td>\n",
              "      <td>17664</td>\n",
              "      <td>17656.729781</td>\n",
              "      <td>0.000000</td>\n",
              "    </tr>\n",
              "    <tr>\n",
              "      <th>2022-09-05 14:50:00</th>\n",
              "      <td>17663</td>\n",
              "      <td>17668</td>\n",
              "      <td>17659</td>\n",
              "      <td>17663</td>\n",
              "      <td>17657.307932</td>\n",
              "      <td>0.000000</td>\n",
              "    </tr>\n",
              "    <tr>\n",
              "      <th>2022-09-05 14:55:00</th>\n",
              "      <td>17662</td>\n",
              "      <td>17672</td>\n",
              "      <td>17653</td>\n",
              "      <td>17654</td>\n",
              "      <td>17657.611154</td>\n",
              "      <td>0.000000</td>\n",
              "    </tr>\n",
              "    <tr>\n",
              "      <th>2022-09-05 15:00:00</th>\n",
              "      <td>17654</td>\n",
              "      <td>17678</td>\n",
              "      <td>17651</td>\n",
              "      <td>17677</td>\n",
              "      <td>17657.711009</td>\n",
              "      <td>25.249460</td>\n",
              "    </tr>\n",
              "    <tr>\n",
              "      <th>2022-09-05 15:05:00</th>\n",
              "      <td>17677</td>\n",
              "      <td>17679</td>\n",
              "      <td>17665</td>\n",
              "      <td>17670</td>\n",
              "      <td>17657.868213</td>\n",
              "      <td>11.547296</td>\n",
              "    </tr>\n",
              "    <tr>\n",
              "      <th>...</th>\n",
              "      <td>...</td>\n",
              "      <td>...</td>\n",
              "      <td>...</td>\n",
              "      <td>...</td>\n",
              "      <td>...</td>\n",
              "      <td>...</td>\n",
              "    </tr>\n",
              "    <tr>\n",
              "      <th>2022-09-06 15:05:00</th>\n",
              "      <td>17661</td>\n",
              "      <td>17681</td>\n",
              "      <td>17658</td>\n",
              "      <td>17671</td>\n",
              "      <td>17682.404821</td>\n",
              "      <td>-125.540386</td>\n",
              "    </tr>\n",
              "    <tr>\n",
              "      <th>2022-09-06 15:10:00</th>\n",
              "      <td>17672</td>\n",
              "      <td>17674</td>\n",
              "      <td>17651</td>\n",
              "      <td>17653</td>\n",
              "      <td>17679.760167</td>\n",
              "      <td>-127.036502</td>\n",
              "    </tr>\n",
              "    <tr>\n",
              "      <th>2022-09-06 15:15:00</th>\n",
              "      <td>17653</td>\n",
              "      <td>17657</td>\n",
              "      <td>17649</td>\n",
              "      <td>17652</td>\n",
              "      <td>17677.481170</td>\n",
              "      <td>-143.167693</td>\n",
              "    </tr>\n",
              "    <tr>\n",
              "      <th>2022-09-06 15:20:00</th>\n",
              "      <td>17651</td>\n",
              "      <td>17653</td>\n",
              "      <td>17647</td>\n",
              "      <td>17650</td>\n",
              "      <td>17675.383918</td>\n",
              "      <td>-141.052227</td>\n",
              "    </tr>\n",
              "    <tr>\n",
              "      <th>2022-09-06 15:25:00</th>\n",
              "      <td>17650</td>\n",
              "      <td>17654</td>\n",
              "      <td>17642</td>\n",
              "      <td>17652</td>\n",
              "      <td>17672.863725</td>\n",
              "      <td>-125.370298</td>\n",
              "    </tr>\n",
              "  </tbody>\n",
              "</table>\n",
              "<p>73 rows × 6 columns</p>\n",
              "</div>"
            ],
            "text/plain": [
              "                      Open   High    Low  Close         trend         deg\n",
              "Date                                                                     \n",
              "2022-09-05 14:45:00  17670  17671  17662  17664  17656.729781    0.000000\n",
              "2022-09-05 14:50:00  17663  17668  17659  17663  17657.307932    0.000000\n",
              "2022-09-05 14:55:00  17662  17672  17653  17654  17657.611154    0.000000\n",
              "2022-09-05 15:00:00  17654  17678  17651  17677  17657.711009   25.249460\n",
              "2022-09-05 15:05:00  17677  17679  17665  17670  17657.868213   11.547296\n",
              "...                    ...    ...    ...    ...           ...         ...\n",
              "2022-09-06 15:05:00  17661  17681  17658  17671  17682.404821 -125.540386\n",
              "2022-09-06 15:10:00  17672  17674  17651  17653  17679.760167 -127.036502\n",
              "2022-09-06 15:15:00  17653  17657  17649  17652  17677.481170 -143.167693\n",
              "2022-09-06 15:20:00  17651  17653  17647  17650  17675.383918 -141.052227\n",
              "2022-09-06 15:25:00  17650  17654  17642  17652  17672.863725 -125.370298\n",
              "\n",
              "[73 rows x 6 columns]"
            ]
          },
          "execution_count": 36,
          "metadata": {},
          "output_type": "execute_result"
        }
      ],
      "source": [
        "df2 = df[['trend']]\n",
        "df2['deg'] = 0\n",
        "df2.reset_index(inplace=True)\n",
        "i = 3\n",
        "while i in range(3, len(df2)):\n",
        "    x = df2.index[i-3:i]\n",
        "    y = df2.trend[i-3:i]\n",
        "    slope, intercept = np.polyfit(x,y,1)\n",
        "    deg = math.degrees(slope)\n",
        "    df2['deg'].iat[i] = deg\n",
        "    i = i + 1\n",
        "df2.set_index('Date', inplace=True)\n",
        "df['deg'] = df2['deg']\n",
        "df"
      ]
    },
    {
      "cell_type": "code",
      "execution_count": null,
      "id": "52addc13",
      "metadata": {
        "id": "52addc13",
        "outputId": "8a642b59-5f20-4e9c-b870-a8385b068582"
      },
      "outputs": [
        {
          "data": {
            "text/html": [
              "<div>\n",
              "<style scoped>\n",
              "    .dataframe tbody tr th:only-of-type {\n",
              "        vertical-align: middle;\n",
              "    }\n",
              "\n",
              "    .dataframe tbody tr th {\n",
              "        vertical-align: top;\n",
              "    }\n",
              "\n",
              "    .dataframe thead th {\n",
              "        text-align: right;\n",
              "    }\n",
              "</style>\n",
              "<table border=\"1\" class=\"dataframe\">\n",
              "  <thead>\n",
              "    <tr style=\"text-align: right;\">\n",
              "      <th></th>\n",
              "      <th>Open</th>\n",
              "      <th>High</th>\n",
              "      <th>Low</th>\n",
              "      <th>Close</th>\n",
              "      <th>trend</th>\n",
              "      <th>deg</th>\n",
              "      <th>position</th>\n",
              "    </tr>\n",
              "    <tr>\n",
              "      <th>Date</th>\n",
              "      <th></th>\n",
              "      <th></th>\n",
              "      <th></th>\n",
              "      <th></th>\n",
              "      <th></th>\n",
              "      <th></th>\n",
              "      <th></th>\n",
              "    </tr>\n",
              "  </thead>\n",
              "  <tbody>\n",
              "    <tr>\n",
              "      <th>2022-09-05 14:45:00</th>\n",
              "      <td>17670</td>\n",
              "      <td>17671</td>\n",
              "      <td>17662</td>\n",
              "      <td>17664</td>\n",
              "      <td>17656.729781</td>\n",
              "      <td>0.000000</td>\n",
              "      <td>1</td>\n",
              "    </tr>\n",
              "    <tr>\n",
              "      <th>2022-09-05 14:50:00</th>\n",
              "      <td>17663</td>\n",
              "      <td>17668</td>\n",
              "      <td>17659</td>\n",
              "      <td>17663</td>\n",
              "      <td>17657.307932</td>\n",
              "      <td>0.000000</td>\n",
              "      <td>1</td>\n",
              "    </tr>\n",
              "    <tr>\n",
              "      <th>2022-09-05 14:55:00</th>\n",
              "      <td>17662</td>\n",
              "      <td>17672</td>\n",
              "      <td>17653</td>\n",
              "      <td>17654</td>\n",
              "      <td>17657.611154</td>\n",
              "      <td>0.000000</td>\n",
              "      <td>1</td>\n",
              "    </tr>\n",
              "    <tr>\n",
              "      <th>2022-09-05 15:00:00</th>\n",
              "      <td>17654</td>\n",
              "      <td>17678</td>\n",
              "      <td>17651</td>\n",
              "      <td>17677</td>\n",
              "      <td>17657.711009</td>\n",
              "      <td>25.249460</td>\n",
              "      <td>1</td>\n",
              "    </tr>\n",
              "    <tr>\n",
              "      <th>2022-09-05 15:05:00</th>\n",
              "      <td>17677</td>\n",
              "      <td>17679</td>\n",
              "      <td>17665</td>\n",
              "      <td>17670</td>\n",
              "      <td>17657.868213</td>\n",
              "      <td>11.547296</td>\n",
              "      <td>1</td>\n",
              "    </tr>\n",
              "    <tr>\n",
              "      <th>...</th>\n",
              "      <td>...</td>\n",
              "      <td>...</td>\n",
              "      <td>...</td>\n",
              "      <td>...</td>\n",
              "      <td>...</td>\n",
              "      <td>...</td>\n",
              "      <td>...</td>\n",
              "    </tr>\n",
              "    <tr>\n",
              "      <th>2022-09-06 15:05:00</th>\n",
              "      <td>17661</td>\n",
              "      <td>17681</td>\n",
              "      <td>17658</td>\n",
              "      <td>17671</td>\n",
              "      <td>17682.404821</td>\n",
              "      <td>-125.540386</td>\n",
              "      <td>-1</td>\n",
              "    </tr>\n",
              "    <tr>\n",
              "      <th>2022-09-06 15:10:00</th>\n",
              "      <td>17672</td>\n",
              "      <td>17674</td>\n",
              "      <td>17651</td>\n",
              "      <td>17653</td>\n",
              "      <td>17679.760167</td>\n",
              "      <td>-127.036502</td>\n",
              "      <td>-1</td>\n",
              "    </tr>\n",
              "    <tr>\n",
              "      <th>2022-09-06 15:15:00</th>\n",
              "      <td>17653</td>\n",
              "      <td>17657</td>\n",
              "      <td>17649</td>\n",
              "      <td>17652</td>\n",
              "      <td>17677.481170</td>\n",
              "      <td>-143.167693</td>\n",
              "      <td>-1</td>\n",
              "    </tr>\n",
              "    <tr>\n",
              "      <th>2022-09-06 15:20:00</th>\n",
              "      <td>17651</td>\n",
              "      <td>17653</td>\n",
              "      <td>17647</td>\n",
              "      <td>17650</td>\n",
              "      <td>17675.383918</td>\n",
              "      <td>-141.052227</td>\n",
              "      <td>-1</td>\n",
              "    </tr>\n",
              "    <tr>\n",
              "      <th>2022-09-06 15:25:00</th>\n",
              "      <td>17650</td>\n",
              "      <td>17654</td>\n",
              "      <td>17642</td>\n",
              "      <td>17652</td>\n",
              "      <td>17672.863725</td>\n",
              "      <td>-125.370298</td>\n",
              "      <td>-1</td>\n",
              "    </tr>\n",
              "  </tbody>\n",
              "</table>\n",
              "<p>73 rows × 7 columns</p>\n",
              "</div>"
            ],
            "text/plain": [
              "                      Open   High    Low  Close         trend         deg  \\\n",
              "Date                                                                        \n",
              "2022-09-05 14:45:00  17670  17671  17662  17664  17656.729781    0.000000   \n",
              "2022-09-05 14:50:00  17663  17668  17659  17663  17657.307932    0.000000   \n",
              "2022-09-05 14:55:00  17662  17672  17653  17654  17657.611154    0.000000   \n",
              "2022-09-05 15:00:00  17654  17678  17651  17677  17657.711009   25.249460   \n",
              "2022-09-05 15:05:00  17677  17679  17665  17670  17657.868213   11.547296   \n",
              "...                    ...    ...    ...    ...           ...         ...   \n",
              "2022-09-06 15:05:00  17661  17681  17658  17671  17682.404821 -125.540386   \n",
              "2022-09-06 15:10:00  17672  17674  17651  17653  17679.760167 -127.036502   \n",
              "2022-09-06 15:15:00  17653  17657  17649  17652  17677.481170 -143.167693   \n",
              "2022-09-06 15:20:00  17651  17653  17647  17650  17675.383918 -141.052227   \n",
              "2022-09-06 15:25:00  17650  17654  17642  17652  17672.863725 -125.370298   \n",
              "\n",
              "                     position  \n",
              "Date                           \n",
              "2022-09-05 14:45:00         1  \n",
              "2022-09-05 14:50:00         1  \n",
              "2022-09-05 14:55:00         1  \n",
              "2022-09-05 15:00:00         1  \n",
              "2022-09-05 15:05:00         1  \n",
              "...                       ...  \n",
              "2022-09-06 15:05:00        -1  \n",
              "2022-09-06 15:10:00        -1  \n",
              "2022-09-06 15:15:00        -1  \n",
              "2022-09-06 15:20:00        -1  \n",
              "2022-09-06 15:25:00        -1  \n",
              "\n",
              "[73 rows x 7 columns]"
            ]
          },
          "execution_count": 37,
          "metadata": {},
          "output_type": "execute_result"
        }
      ],
      "source": [
        "df['position'] = np.where(df.deg < 0,-1,1)\n",
        "df"
      ]
    },
    {
      "cell_type": "code",
      "execution_count": null,
      "id": "de703b02",
      "metadata": {
        "id": "de703b02",
        "outputId": "8dd7f20b-2f06-4d09-d24c-4c3988de7d10"
      },
      "outputs": [
        {
          "data": {
            "application/vnd.plotly.v1+json": {
              "config": {
                "plotlyServerURL": "https://plot.ly"
              },
              "data": [
                {
                  "close": [
                    17664,
                    17663,
                    17654,
                    17677,
                    17670,
                    17671,
                    17666,
                    17660,
                    17654,
                    17655,
                    17633,
                    17614,
                    17601,
                    17591,
                    17609,
                    17605,
                    17623,
                    17618,
                    17633,
                    17635,
                    17665,
                    17667,
                    17666,
                    17656,
                    17655,
                    17652,
                    17657,
                    17673,
                    17669,
                    17669,
                    17691,
                    17693,
                    17689,
                    17683,
                    17692,
                    17701,
                    17698,
                    17708,
                    17702,
                    17708,
                    17703,
                    17713,
                    17706,
                    17699,
                    17685,
                    17694,
                    17691,
                    17694,
                    17698,
                    17711,
                    17693,
                    17694,
                    17679,
                    17684,
                    17696,
                    17687,
                    17692,
                    17697,
                    17688,
                    17695,
                    17704,
                    17692,
                    17665,
                    17641,
                    17662,
                    17662,
                    17655,
                    17661,
                    17671,
                    17653,
                    17652,
                    17650,
                    17652
                  ],
                  "high": [
                    17671,
                    17668,
                    17672,
                    17678,
                    17679,
                    17680,
                    17672,
                    17668,
                    17664,
                    17655,
                    17642,
                    17633,
                    17615,
                    17613,
                    17609,
                    17613,
                    17624,
                    17624,
                    17635,
                    17636,
                    17668,
                    17668,
                    17675,
                    17667,
                    17664,
                    17660,
                    17658,
                    17673,
                    17677,
                    17672,
                    17692,
                    17697,
                    17694,
                    17691,
                    17693,
                    17703,
                    17702,
                    17709,
                    17711,
                    17709,
                    17713,
                    17716,
                    17715,
                    17708,
                    17700,
                    17694,
                    17700,
                    17695,
                    17701,
                    17714,
                    17714,
                    17696,
                    17695,
                    17691,
                    17699,
                    17698,
                    17693,
                    17698,
                    17705,
                    17695,
                    17705,
                    17705,
                    17697,
                    17669,
                    17667,
                    17663,
                    17664,
                    17668,
                    17681,
                    17674,
                    17657,
                    17653,
                    17654
                  ],
                  "low": [
                    17662,
                    17659,
                    17653,
                    17651,
                    17665,
                    17668,
                    17660,
                    17658,
                    17652,
                    17655,
                    17630,
                    17614,
                    17589,
                    17589,
                    17588,
                    17596,
                    17603,
                    17613,
                    17613,
                    17629,
                    17636,
                    17656,
                    17665,
                    17644,
                    17652,
                    17648,
                    17648,
                    17656,
                    17668,
                    17661,
                    17668,
                    17685,
                    17681,
                    17682,
                    17682,
                    17690,
                    17691,
                    17696,
                    17702,
                    17697,
                    17700,
                    17702,
                    17706,
                    17694,
                    17681,
                    17683,
                    17691,
                    17687,
                    17691,
                    17698,
                    17682,
                    17688,
                    17672,
                    17674,
                    17681,
                    17686,
                    17683,
                    17691,
                    17688,
                    17685,
                    17695,
                    17688,
                    17664,
                    17639,
                    17638,
                    17643,
                    17650,
                    17649,
                    17658,
                    17651,
                    17649,
                    17647,
                    17642
                  ],
                  "open": [
                    17670,
                    17663,
                    17662,
                    17654,
                    17677,
                    17672,
                    17672,
                    17667,
                    17660,
                    17655,
                    17638,
                    17633,
                    17615,
                    17601,
                    17590,
                    17609,
                    17606,
                    17624,
                    17619,
                    17634,
                    17636,
                    17665,
                    17668,
                    17665,
                    17656,
                    17654,
                    17652,
                    17657,
                    17672,
                    17669,
                    17669,
                    17691,
                    17693,
                    17690,
                    17682,
                    17692,
                    17701,
                    17698,
                    17708,
                    17701,
                    17708,
                    17703,
                    17713,
                    17706,
                    17699,
                    17685,
                    17694,
                    17691,
                    17694,
                    17698,
                    17711,
                    17693,
                    17694,
                    17679,
                    17683,
                    17696,
                    17687,
                    17692,
                    17698,
                    17688,
                    17695,
                    17704,
                    17693,
                    17665,
                    17641,
                    17661,
                    17662,
                    17654,
                    17661,
                    17672,
                    17653,
                    17651,
                    17650
                  ],
                  "type": "candlestick",
                  "x": [
                    "2022-09-05 14:45:00",
                    "2022-09-05 14:50:00",
                    "2022-09-05 14:55:00",
                    "2022-09-05 15:00:00",
                    "2022-09-05 15:05:00",
                    "2022-09-05 15:10:00",
                    "2022-09-05 15:15:00",
                    "2022-09-05 15:20:00",
                    "2022-09-05 15:25:00",
                    "2022-09-05 15:30:00",
                    "2022-09-06 10:15:00",
                    "2022-09-06 10:20:00",
                    "2022-09-06 10:25:00",
                    "2022-09-06 10:30:00",
                    "2022-09-06 10:35:00",
                    "2022-09-06 10:40:00",
                    "2022-09-06 10:45:00",
                    "2022-09-06 10:50:00",
                    "2022-09-06 10:55:00",
                    "2022-09-06 11:00:00",
                    "2022-09-06 11:05:00",
                    "2022-09-06 11:10:00",
                    "2022-09-06 11:15:00",
                    "2022-09-06 11:20:00",
                    "2022-09-06 11:25:00",
                    "2022-09-06 11:30:00",
                    "2022-09-06 11:35:00",
                    "2022-09-06 11:40:00",
                    "2022-09-06 11:45:00",
                    "2022-09-06 11:50:00",
                    "2022-09-06 11:55:00",
                    "2022-09-06 12:00:00",
                    "2022-09-06 12:05:00",
                    "2022-09-06 12:10:00",
                    "2022-09-06 12:15:00",
                    "2022-09-06 12:20:00",
                    "2022-09-06 12:25:00",
                    "2022-09-06 12:30:00",
                    "2022-09-06 12:35:00",
                    "2022-09-06 12:40:00",
                    "2022-09-06 12:45:00",
                    "2022-09-06 12:50:00",
                    "2022-09-06 12:55:00",
                    "2022-09-06 13:00:00",
                    "2022-09-06 13:05:00",
                    "2022-09-06 13:10:00",
                    "2022-09-06 13:15:00",
                    "2022-09-06 13:20:00",
                    "2022-09-06 13:25:00",
                    "2022-09-06 13:30:00",
                    "2022-09-06 13:35:00",
                    "2022-09-06 13:40:00",
                    "2022-09-06 13:45:00",
                    "2022-09-06 13:50:00",
                    "2022-09-06 13:55:00",
                    "2022-09-06 14:00:00",
                    "2022-09-06 14:05:00",
                    "2022-09-06 14:10:00",
                    "2022-09-06 14:15:00",
                    "2022-09-06 14:20:00",
                    "2022-09-06 14:25:00",
                    "2022-09-06 14:30:00",
                    "2022-09-06 14:35:00",
                    "2022-09-06 14:40:00",
                    "2022-09-06 14:45:00",
                    "2022-09-06 14:50:00",
                    "2022-09-06 14:55:00",
                    "2022-09-06 15:00:00",
                    "2022-09-06 15:05:00",
                    "2022-09-06 15:10:00",
                    "2022-09-06 15:15:00",
                    "2022-09-06 15:20:00",
                    "2022-09-06 15:25:00"
                  ]
                },
                {
                  "marker": {
                    "color": "green",
                    "size": 10,
                    "symbol": "square-dot"
                  },
                  "mode": "markers",
                  "name": "Trendline",
                  "type": "scatter",
                  "x": [
                    "2022-09-05 14:45:00",
                    "2022-09-05 14:50:00",
                    "2022-09-05 14:55:00",
                    "2022-09-05 15:00:00",
                    "2022-09-05 15:05:00",
                    "2022-09-05 15:10:00",
                    "2022-09-05 15:15:00",
                    "2022-09-05 15:20:00",
                    "2022-09-05 15:25:00",
                    "2022-09-05 15:30:00",
                    "2022-09-06 10:15:00",
                    "2022-09-06 10:20:00",
                    "2022-09-06 10:25:00",
                    "2022-09-06 10:30:00",
                    "2022-09-06 10:35:00",
                    "2022-09-06 10:40:00",
                    "2022-09-06 10:45:00",
                    "2022-09-06 10:50:00",
                    "2022-09-06 10:55:00",
                    "2022-09-06 11:00:00",
                    "2022-09-06 11:05:00",
                    "2022-09-06 11:10:00",
                    "2022-09-06 11:15:00",
                    "2022-09-06 11:20:00",
                    "2022-09-06 11:25:00",
                    "2022-09-06 11:30:00",
                    "2022-09-06 11:35:00",
                    "2022-09-06 11:40:00",
                    "2022-09-06 11:45:00",
                    "2022-09-06 11:50:00",
                    "2022-09-06 11:55:00",
                    "2022-09-06 12:00:00",
                    "2022-09-06 12:05:00",
                    "2022-09-06 12:10:00",
                    "2022-09-06 12:15:00",
                    "2022-09-06 12:20:00",
                    "2022-09-06 12:25:00",
                    "2022-09-06 12:30:00",
                    "2022-09-06 12:35:00",
                    "2022-09-06 12:40:00",
                    "2022-09-06 12:45:00",
                    "2022-09-06 12:50:00",
                    "2022-09-06 12:55:00",
                    "2022-09-06 13:00:00",
                    "2022-09-06 13:05:00",
                    "2022-09-06 13:10:00",
                    "2022-09-06 13:15:00",
                    "2022-09-06 13:20:00",
                    "2022-09-06 13:25:00",
                    "2022-09-06 13:30:00",
                    "2022-09-06 13:35:00",
                    "2022-09-06 13:40:00",
                    "2022-09-06 13:45:00",
                    "2022-09-06 13:50:00",
                    "2022-09-06 13:55:00",
                    "2022-09-06 14:00:00",
                    "2022-09-06 14:05:00",
                    "2022-09-06 14:10:00",
                    "2022-09-06 14:15:00",
                    "2022-09-06 14:20:00",
                    "2022-09-06 14:25:00",
                    "2022-09-06 14:30:00",
                    "2022-09-06 14:35:00",
                    "2022-09-06 14:40:00",
                    "2022-09-06 14:45:00",
                    "2022-09-06 14:50:00",
                    "2022-09-06 14:55:00",
                    "2022-09-06 15:00:00",
                    "2022-09-06 15:05:00",
                    "2022-09-06 15:10:00",
                    "2022-09-06 15:15:00",
                    "2022-09-06 15:20:00",
                    "2022-09-06 15:25:00"
                  ],
                  "y": [
                    17656.72978129117,
                    17657.307931894193,
                    17657.611153722282,
                    17657.71100854701,
                    17657.86821326821,
                    17658.156536216018,
                    17658.48464696223,
                    17658.74174876847,
                    17658.806666666667,
                    17658.672298850575,
                    17658.229770114944,
                    17657.426666666666,
                    17656.273333333334,
                    17654.678387096774,
                    17653.239677419355,
                    17651.74494623656,
                    17650.541935483874,
                    17649.522580645164,
                    17648.945161290325,
                    17648.62172043011,
                    17648.603978494626,
                    17648.533474230626,
                    17648.185566502467,
                    17647.481885604815,
                    17646.640056559023,
                    17645.60119047619,
                    17644.545703703705,
                    17643.668074074074,
                    17642.65197826087,
                    17642.101260869567,
                    17642.16734189723,
                    17643.013241106717,
                    17644.73300395257,
                    17648.11515151515,
                    17652.36168831169,
                    17656.90541125541,
                    17661.5,
                    17665.804761904765,
                    17669.942857142858,
                    17674.675238095235,
                    17678.033809523808,
                    17680.820952380953,
                    17683.04142857143,
                    17684.422077922078,
                    17685.55909090909,
                    17686.262827028044,
                    17686.66811594203,
                    17687.50614295125,
                    17688.20042753623,
                    17688.98785897436,
                    17689.52449145299,
                    17689.8267985348,
                    17690.32255799756,
                    17691.07817460318,
                    17692.46693121693,
                    17693.692724867728,
                    17694.777645502643,
                    17695.515384615384,
                    17695.837464387463,
                    17695.96324786325,
                    17696.361965811964,
                    17696.500284900285,
                    17695.873988603988,
                    17694.13102564102,
                    17691.730192307692,
                    17689.139848484847,
                    17686.839231601734,
                    17684.757662337663,
                    17682.40482114377,
                    17679.76016708438,
                    17677.481169590646,
                    17675.383918128653,
                    17672.8637254902
                  ]
                },
                {
                  "name": "position",
                  "type": "scatter",
                  "x": [
                    "2022-09-05 14:45:00",
                    "2022-09-05 14:50:00",
                    "2022-09-05 14:55:00",
                    "2022-09-05 15:00:00",
                    "2022-09-05 15:05:00",
                    "2022-09-05 15:10:00",
                    "2022-09-05 15:15:00",
                    "2022-09-05 15:20:00",
                    "2022-09-05 15:25:00",
                    "2022-09-05 15:30:00",
                    "2022-09-06 10:15:00",
                    "2022-09-06 10:20:00",
                    "2022-09-06 10:25:00",
                    "2022-09-06 10:30:00",
                    "2022-09-06 10:35:00",
                    "2022-09-06 10:40:00",
                    "2022-09-06 10:45:00",
                    "2022-09-06 10:50:00",
                    "2022-09-06 10:55:00",
                    "2022-09-06 11:00:00",
                    "2022-09-06 11:05:00",
                    "2022-09-06 11:10:00",
                    "2022-09-06 11:15:00",
                    "2022-09-06 11:20:00",
                    "2022-09-06 11:25:00",
                    "2022-09-06 11:30:00",
                    "2022-09-06 11:35:00",
                    "2022-09-06 11:40:00",
                    "2022-09-06 11:45:00",
                    "2022-09-06 11:50:00",
                    "2022-09-06 11:55:00",
                    "2022-09-06 12:00:00",
                    "2022-09-06 12:05:00",
                    "2022-09-06 12:10:00",
                    "2022-09-06 12:15:00",
                    "2022-09-06 12:20:00",
                    "2022-09-06 12:25:00",
                    "2022-09-06 12:30:00",
                    "2022-09-06 12:35:00",
                    "2022-09-06 12:40:00",
                    "2022-09-06 12:45:00",
                    "2022-09-06 12:50:00",
                    "2022-09-06 12:55:00",
                    "2022-09-06 13:00:00",
                    "2022-09-06 13:05:00",
                    "2022-09-06 13:10:00",
                    "2022-09-06 13:15:00",
                    "2022-09-06 13:20:00",
                    "2022-09-06 13:25:00",
                    "2022-09-06 13:30:00",
                    "2022-09-06 13:35:00",
                    "2022-09-06 13:40:00",
                    "2022-09-06 13:45:00",
                    "2022-09-06 13:50:00",
                    "2022-09-06 13:55:00",
                    "2022-09-06 14:00:00",
                    "2022-09-06 14:05:00",
                    "2022-09-06 14:10:00",
                    "2022-09-06 14:15:00",
                    "2022-09-06 14:20:00",
                    "2022-09-06 14:25:00",
                    "2022-09-06 14:30:00",
                    "2022-09-06 14:35:00",
                    "2022-09-06 14:40:00",
                    "2022-09-06 14:45:00",
                    "2022-09-06 14:50:00",
                    "2022-09-06 14:55:00",
                    "2022-09-06 15:00:00",
                    "2022-09-06 15:05:00",
                    "2022-09-06 15:10:00",
                    "2022-09-06 15:15:00",
                    "2022-09-06 15:20:00",
                    "2022-09-06 15:25:00"
                  ],
                  "xaxis": "x",
                  "y": [
                    1,
                    1,
                    1,
                    1,
                    1,
                    1,
                    1,
                    1,
                    1,
                    1,
                    -1,
                    -1,
                    -1,
                    -1,
                    -1,
                    -1,
                    -1,
                    -1,
                    -1,
                    -1,
                    -1,
                    -1,
                    -1,
                    -1,
                    -1,
                    -1,
                    -1,
                    -1,
                    -1,
                    -1,
                    -1,
                    -1,
                    1,
                    1,
                    1,
                    1,
                    1,
                    1,
                    1,
                    1,
                    1,
                    1,
                    1,
                    1,
                    1,
                    1,
                    1,
                    1,
                    1,
                    1,
                    1,
                    1,
                    1,
                    1,
                    1,
                    1,
                    1,
                    1,
                    1,
                    1,
                    1,
                    1,
                    1,
                    -1,
                    -1,
                    -1,
                    -1,
                    -1,
                    -1,
                    -1,
                    -1,
                    -1,
                    -1
                  ],
                  "yaxis": "y2"
                }
              ],
              "layout": {
                "height": 600,
                "template": {
                  "data": {
                    "bar": [
                      {
                        "error_x": {
                          "color": "#2a3f5f"
                        },
                        "error_y": {
                          "color": "#2a3f5f"
                        },
                        "marker": {
                          "line": {
                            "color": "#E5ECF6",
                            "width": 0.5
                          },
                          "pattern": {
                            "fillmode": "overlay",
                            "size": 10,
                            "solidity": 0.2
                          }
                        },
                        "type": "bar"
                      }
                    ],
                    "barpolar": [
                      {
                        "marker": {
                          "line": {
                            "color": "#E5ECF6",
                            "width": 0.5
                          },
                          "pattern": {
                            "fillmode": "overlay",
                            "size": 10,
                            "solidity": 0.2
                          }
                        },
                        "type": "barpolar"
                      }
                    ],
                    "carpet": [
                      {
                        "aaxis": {
                          "endlinecolor": "#2a3f5f",
                          "gridcolor": "white",
                          "linecolor": "white",
                          "minorgridcolor": "white",
                          "startlinecolor": "#2a3f5f"
                        },
                        "baxis": {
                          "endlinecolor": "#2a3f5f",
                          "gridcolor": "white",
                          "linecolor": "white",
                          "minorgridcolor": "white",
                          "startlinecolor": "#2a3f5f"
                        },
                        "type": "carpet"
                      }
                    ],
                    "choropleth": [
                      {
                        "colorbar": {
                          "outlinewidth": 0,
                          "ticks": ""
                        },
                        "type": "choropleth"
                      }
                    ],
                    "contour": [
                      {
                        "colorbar": {
                          "outlinewidth": 0,
                          "ticks": ""
                        },
                        "colorscale": [
                          [
                            0,
                            "#0d0887"
                          ],
                          [
                            0.1111111111111111,
                            "#46039f"
                          ],
                          [
                            0.2222222222222222,
                            "#7201a8"
                          ],
                          [
                            0.3333333333333333,
                            "#9c179e"
                          ],
                          [
                            0.4444444444444444,
                            "#bd3786"
                          ],
                          [
                            0.5555555555555556,
                            "#d8576b"
                          ],
                          [
                            0.6666666666666666,
                            "#ed7953"
                          ],
                          [
                            0.7777777777777778,
                            "#fb9f3a"
                          ],
                          [
                            0.8888888888888888,
                            "#fdca26"
                          ],
                          [
                            1,
                            "#f0f921"
                          ]
                        ],
                        "type": "contour"
                      }
                    ],
                    "contourcarpet": [
                      {
                        "colorbar": {
                          "outlinewidth": 0,
                          "ticks": ""
                        },
                        "type": "contourcarpet"
                      }
                    ],
                    "heatmap": [
                      {
                        "colorbar": {
                          "outlinewidth": 0,
                          "ticks": ""
                        },
                        "colorscale": [
                          [
                            0,
                            "#0d0887"
                          ],
                          [
                            0.1111111111111111,
                            "#46039f"
                          ],
                          [
                            0.2222222222222222,
                            "#7201a8"
                          ],
                          [
                            0.3333333333333333,
                            "#9c179e"
                          ],
                          [
                            0.4444444444444444,
                            "#bd3786"
                          ],
                          [
                            0.5555555555555556,
                            "#d8576b"
                          ],
                          [
                            0.6666666666666666,
                            "#ed7953"
                          ],
                          [
                            0.7777777777777778,
                            "#fb9f3a"
                          ],
                          [
                            0.8888888888888888,
                            "#fdca26"
                          ],
                          [
                            1,
                            "#f0f921"
                          ]
                        ],
                        "type": "heatmap"
                      }
                    ],
                    "heatmapgl": [
                      {
                        "colorbar": {
                          "outlinewidth": 0,
                          "ticks": ""
                        },
                        "colorscale": [
                          [
                            0,
                            "#0d0887"
                          ],
                          [
                            0.1111111111111111,
                            "#46039f"
                          ],
                          [
                            0.2222222222222222,
                            "#7201a8"
                          ],
                          [
                            0.3333333333333333,
                            "#9c179e"
                          ],
                          [
                            0.4444444444444444,
                            "#bd3786"
                          ],
                          [
                            0.5555555555555556,
                            "#d8576b"
                          ],
                          [
                            0.6666666666666666,
                            "#ed7953"
                          ],
                          [
                            0.7777777777777778,
                            "#fb9f3a"
                          ],
                          [
                            0.8888888888888888,
                            "#fdca26"
                          ],
                          [
                            1,
                            "#f0f921"
                          ]
                        ],
                        "type": "heatmapgl"
                      }
                    ],
                    "histogram": [
                      {
                        "marker": {
                          "pattern": {
                            "fillmode": "overlay",
                            "size": 10,
                            "solidity": 0.2
                          }
                        },
                        "type": "histogram"
                      }
                    ],
                    "histogram2d": [
                      {
                        "colorbar": {
                          "outlinewidth": 0,
                          "ticks": ""
                        },
                        "colorscale": [
                          [
                            0,
                            "#0d0887"
                          ],
                          [
                            0.1111111111111111,
                            "#46039f"
                          ],
                          [
                            0.2222222222222222,
                            "#7201a8"
                          ],
                          [
                            0.3333333333333333,
                            "#9c179e"
                          ],
                          [
                            0.4444444444444444,
                            "#bd3786"
                          ],
                          [
                            0.5555555555555556,
                            "#d8576b"
                          ],
                          [
                            0.6666666666666666,
                            "#ed7953"
                          ],
                          [
                            0.7777777777777778,
                            "#fb9f3a"
                          ],
                          [
                            0.8888888888888888,
                            "#fdca26"
                          ],
                          [
                            1,
                            "#f0f921"
                          ]
                        ],
                        "type": "histogram2d"
                      }
                    ],
                    "histogram2dcontour": [
                      {
                        "colorbar": {
                          "outlinewidth": 0,
                          "ticks": ""
                        },
                        "colorscale": [
                          [
                            0,
                            "#0d0887"
                          ],
                          [
                            0.1111111111111111,
                            "#46039f"
                          ],
                          [
                            0.2222222222222222,
                            "#7201a8"
                          ],
                          [
                            0.3333333333333333,
                            "#9c179e"
                          ],
                          [
                            0.4444444444444444,
                            "#bd3786"
                          ],
                          [
                            0.5555555555555556,
                            "#d8576b"
                          ],
                          [
                            0.6666666666666666,
                            "#ed7953"
                          ],
                          [
                            0.7777777777777778,
                            "#fb9f3a"
                          ],
                          [
                            0.8888888888888888,
                            "#fdca26"
                          ],
                          [
                            1,
                            "#f0f921"
                          ]
                        ],
                        "type": "histogram2dcontour"
                      }
                    ],
                    "mesh3d": [
                      {
                        "colorbar": {
                          "outlinewidth": 0,
                          "ticks": ""
                        },
                        "type": "mesh3d"
                      }
                    ],
                    "parcoords": [
                      {
                        "line": {
                          "colorbar": {
                            "outlinewidth": 0,
                            "ticks": ""
                          }
                        },
                        "type": "parcoords"
                      }
                    ],
                    "pie": [
                      {
                        "automargin": true,
                        "type": "pie"
                      }
                    ],
                    "scatter": [
                      {
                        "marker": {
                          "colorbar": {
                            "outlinewidth": 0,
                            "ticks": ""
                          }
                        },
                        "type": "scatter"
                      }
                    ],
                    "scatter3d": [
                      {
                        "line": {
                          "colorbar": {
                            "outlinewidth": 0,
                            "ticks": ""
                          }
                        },
                        "marker": {
                          "colorbar": {
                            "outlinewidth": 0,
                            "ticks": ""
                          }
                        },
                        "type": "scatter3d"
                      }
                    ],
                    "scattercarpet": [
                      {
                        "marker": {
                          "colorbar": {
                            "outlinewidth": 0,
                            "ticks": ""
                          }
                        },
                        "type": "scattercarpet"
                      }
                    ],
                    "scattergeo": [
                      {
                        "marker": {
                          "colorbar": {
                            "outlinewidth": 0,
                            "ticks": ""
                          }
                        },
                        "type": "scattergeo"
                      }
                    ],
                    "scattergl": [
                      {
                        "marker": {
                          "colorbar": {
                            "outlinewidth": 0,
                            "ticks": ""
                          }
                        },
                        "type": "scattergl"
                      }
                    ],
                    "scattermapbox": [
                      {
                        "marker": {
                          "colorbar": {
                            "outlinewidth": 0,
                            "ticks": ""
                          }
                        },
                        "type": "scattermapbox"
                      }
                    ],
                    "scatterpolar": [
                      {
                        "marker": {
                          "colorbar": {
                            "outlinewidth": 0,
                            "ticks": ""
                          }
                        },
                        "type": "scatterpolar"
                      }
                    ],
                    "scatterpolargl": [
                      {
                        "marker": {
                          "colorbar": {
                            "outlinewidth": 0,
                            "ticks": ""
                          }
                        },
                        "type": "scatterpolargl"
                      }
                    ],
                    "scatterternary": [
                      {
                        "marker": {
                          "colorbar": {
                            "outlinewidth": 0,
                            "ticks": ""
                          }
                        },
                        "type": "scatterternary"
                      }
                    ],
                    "surface": [
                      {
                        "colorbar": {
                          "outlinewidth": 0,
                          "ticks": ""
                        },
                        "colorscale": [
                          [
                            0,
                            "#0d0887"
                          ],
                          [
                            0.1111111111111111,
                            "#46039f"
                          ],
                          [
                            0.2222222222222222,
                            "#7201a8"
                          ],
                          [
                            0.3333333333333333,
                            "#9c179e"
                          ],
                          [
                            0.4444444444444444,
                            "#bd3786"
                          ],
                          [
                            0.5555555555555556,
                            "#d8576b"
                          ],
                          [
                            0.6666666666666666,
                            "#ed7953"
                          ],
                          [
                            0.7777777777777778,
                            "#fb9f3a"
                          ],
                          [
                            0.8888888888888888,
                            "#fdca26"
                          ],
                          [
                            1,
                            "#f0f921"
                          ]
                        ],
                        "type": "surface"
                      }
                    ],
                    "table": [
                      {
                        "cells": {
                          "fill": {
                            "color": "#EBF0F8"
                          },
                          "line": {
                            "color": "white"
                          }
                        },
                        "header": {
                          "fill": {
                            "color": "#C8D4E3"
                          },
                          "line": {
                            "color": "white"
                          }
                        },
                        "type": "table"
                      }
                    ]
                  },
                  "layout": {
                    "annotationdefaults": {
                      "arrowcolor": "#2a3f5f",
                      "arrowhead": 0,
                      "arrowwidth": 1
                    },
                    "autotypenumbers": "strict",
                    "coloraxis": {
                      "colorbar": {
                        "outlinewidth": 0,
                        "ticks": ""
                      }
                    },
                    "colorscale": {
                      "diverging": [
                        [
                          0,
                          "#8e0152"
                        ],
                        [
                          0.1,
                          "#c51b7d"
                        ],
                        [
                          0.2,
                          "#de77ae"
                        ],
                        [
                          0.3,
                          "#f1b6da"
                        ],
                        [
                          0.4,
                          "#fde0ef"
                        ],
                        [
                          0.5,
                          "#f7f7f7"
                        ],
                        [
                          0.6,
                          "#e6f5d0"
                        ],
                        [
                          0.7,
                          "#b8e186"
                        ],
                        [
                          0.8,
                          "#7fbc41"
                        ],
                        [
                          0.9,
                          "#4d9221"
                        ],
                        [
                          1,
                          "#276419"
                        ]
                      ],
                      "sequential": [
                        [
                          0,
                          "#0d0887"
                        ],
                        [
                          0.1111111111111111,
                          "#46039f"
                        ],
                        [
                          0.2222222222222222,
                          "#7201a8"
                        ],
                        [
                          0.3333333333333333,
                          "#9c179e"
                        ],
                        [
                          0.4444444444444444,
                          "#bd3786"
                        ],
                        [
                          0.5555555555555556,
                          "#d8576b"
                        ],
                        [
                          0.6666666666666666,
                          "#ed7953"
                        ],
                        [
                          0.7777777777777778,
                          "#fb9f3a"
                        ],
                        [
                          0.8888888888888888,
                          "#fdca26"
                        ],
                        [
                          1,
                          "#f0f921"
                        ]
                      ],
                      "sequentialminus": [
                        [
                          0,
                          "#0d0887"
                        ],
                        [
                          0.1111111111111111,
                          "#46039f"
                        ],
                        [
                          0.2222222222222222,
                          "#7201a8"
                        ],
                        [
                          0.3333333333333333,
                          "#9c179e"
                        ],
                        [
                          0.4444444444444444,
                          "#bd3786"
                        ],
                        [
                          0.5555555555555556,
                          "#d8576b"
                        ],
                        [
                          0.6666666666666666,
                          "#ed7953"
                        ],
                        [
                          0.7777777777777778,
                          "#fb9f3a"
                        ],
                        [
                          0.8888888888888888,
                          "#fdca26"
                        ],
                        [
                          1,
                          "#f0f921"
                        ]
                      ]
                    },
                    "colorway": [
                      "#636efa",
                      "#EF553B",
                      "#00cc96",
                      "#ab63fa",
                      "#FFA15A",
                      "#19d3f3",
                      "#FF6692",
                      "#B6E880",
                      "#FF97FF",
                      "#FECB52"
                    ],
                    "font": {
                      "color": "#2a3f5f"
                    },
                    "geo": {
                      "bgcolor": "white",
                      "lakecolor": "white",
                      "landcolor": "#E5ECF6",
                      "showlakes": true,
                      "showland": true,
                      "subunitcolor": "white"
                    },
                    "hoverlabel": {
                      "align": "left"
                    },
                    "hovermode": "closest",
                    "mapbox": {
                      "style": "light"
                    },
                    "paper_bgcolor": "white",
                    "plot_bgcolor": "#E5ECF6",
                    "polar": {
                      "angularaxis": {
                        "gridcolor": "white",
                        "linecolor": "white",
                        "ticks": ""
                      },
                      "bgcolor": "#E5ECF6",
                      "radialaxis": {
                        "gridcolor": "white",
                        "linecolor": "white",
                        "ticks": ""
                      }
                    },
                    "scene": {
                      "xaxis": {
                        "backgroundcolor": "#E5ECF6",
                        "gridcolor": "white",
                        "gridwidth": 2,
                        "linecolor": "white",
                        "showbackground": true,
                        "ticks": "",
                        "zerolinecolor": "white"
                      },
                      "yaxis": {
                        "backgroundcolor": "#E5ECF6",
                        "gridcolor": "white",
                        "gridwidth": 2,
                        "linecolor": "white",
                        "showbackground": true,
                        "ticks": "",
                        "zerolinecolor": "white"
                      },
                      "zaxis": {
                        "backgroundcolor": "#E5ECF6",
                        "gridcolor": "white",
                        "gridwidth": 2,
                        "linecolor": "white",
                        "showbackground": true,
                        "ticks": "",
                        "zerolinecolor": "white"
                      }
                    },
                    "shapedefaults": {
                      "line": {
                        "color": "#2a3f5f"
                      }
                    },
                    "ternary": {
                      "aaxis": {
                        "gridcolor": "white",
                        "linecolor": "white",
                        "ticks": ""
                      },
                      "baxis": {
                        "gridcolor": "white",
                        "linecolor": "white",
                        "ticks": ""
                      },
                      "bgcolor": "#E5ECF6",
                      "caxis": {
                        "gridcolor": "white",
                        "linecolor": "white",
                        "ticks": ""
                      }
                    },
                    "title": {
                      "x": 0.05
                    },
                    "xaxis": {
                      "automargin": true,
                      "gridcolor": "white",
                      "linecolor": "white",
                      "ticks": "",
                      "title": {
                        "standoff": 15
                      },
                      "zerolinecolor": "white",
                      "zerolinewidth": 2
                    },
                    "yaxis": {
                      "automargin": true,
                      "gridcolor": "white",
                      "linecolor": "white",
                      "ticks": "",
                      "title": {
                        "standoff": 15
                      },
                      "zerolinecolor": "white",
                      "zerolinewidth": 2
                    }
                  }
                },
                "title": {
                  "text": "Nifty"
                },
                "width": 800,
                "xaxis": {
                  "anchor": "y",
                  "domain": [
                    0,
                    0.94
                  ],
                  "rangeslider": {
                    "visible": false
                  },
                  "type": "category"
                },
                "yaxis": {
                  "anchor": "x",
                  "domain": [
                    0,
                    1
                  ],
                  "title": {
                    "text": "Price"
                  }
                },
                "yaxis2": {
                  "anchor": "x",
                  "overlaying": "y",
                  "side": "right"
                }
              }
            },
            "text/html": [
              "<div>                            <div id=\"d0e49a99-6cb1-4faf-aa33-256cee5ad6f8\" class=\"plotly-graph-div\" style=\"height:600px; width:800px;\"></div>            <script type=\"text/javascript\">                require([\"plotly\"], function(Plotly) {                    window.PLOTLYENV=window.PLOTLYENV || {};                                    if (document.getElementById(\"d0e49a99-6cb1-4faf-aa33-256cee5ad6f8\")) {                    Plotly.newPlot(                        \"d0e49a99-6cb1-4faf-aa33-256cee5ad6f8\",                        [{\"close\":[17664,17663,17654,17677,17670,17671,17666,17660,17654,17655,17633,17614,17601,17591,17609,17605,17623,17618,17633,17635,17665,17667,17666,17656,17655,17652,17657,17673,17669,17669,17691,17693,17689,17683,17692,17701,17698,17708,17702,17708,17703,17713,17706,17699,17685,17694,17691,17694,17698,17711,17693,17694,17679,17684,17696,17687,17692,17697,17688,17695,17704,17692,17665,17641,17662,17662,17655,17661,17671,17653,17652,17650,17652],\"high\":[17671,17668,17672,17678,17679,17680,17672,17668,17664,17655,17642,17633,17615,17613,17609,17613,17624,17624,17635,17636,17668,17668,17675,17667,17664,17660,17658,17673,17677,17672,17692,17697,17694,17691,17693,17703,17702,17709,17711,17709,17713,17716,17715,17708,17700,17694,17700,17695,17701,17714,17714,17696,17695,17691,17699,17698,17693,17698,17705,17695,17705,17705,17697,17669,17667,17663,17664,17668,17681,17674,17657,17653,17654],\"low\":[17662,17659,17653,17651,17665,17668,17660,17658,17652,17655,17630,17614,17589,17589,17588,17596,17603,17613,17613,17629,17636,17656,17665,17644,17652,17648,17648,17656,17668,17661,17668,17685,17681,17682,17682,17690,17691,17696,17702,17697,17700,17702,17706,17694,17681,17683,17691,17687,17691,17698,17682,17688,17672,17674,17681,17686,17683,17691,17688,17685,17695,17688,17664,17639,17638,17643,17650,17649,17658,17651,17649,17647,17642],\"open\":[17670,17663,17662,17654,17677,17672,17672,17667,17660,17655,17638,17633,17615,17601,17590,17609,17606,17624,17619,17634,17636,17665,17668,17665,17656,17654,17652,17657,17672,17669,17669,17691,17693,17690,17682,17692,17701,17698,17708,17701,17708,17703,17713,17706,17699,17685,17694,17691,17694,17698,17711,17693,17694,17679,17683,17696,17687,17692,17698,17688,17695,17704,17693,17665,17641,17661,17662,17654,17661,17672,17653,17651,17650],\"x\":[\"2022-09-05 14:45:00\",\"2022-09-05 14:50:00\",\"2022-09-05 14:55:00\",\"2022-09-05 15:00:00\",\"2022-09-05 15:05:00\",\"2022-09-05 15:10:00\",\"2022-09-05 15:15:00\",\"2022-09-05 15:20:00\",\"2022-09-05 15:25:00\",\"2022-09-05 15:30:00\",\"2022-09-06 10:15:00\",\"2022-09-06 10:20:00\",\"2022-09-06 10:25:00\",\"2022-09-06 10:30:00\",\"2022-09-06 10:35:00\",\"2022-09-06 10:40:00\",\"2022-09-06 10:45:00\",\"2022-09-06 10:50:00\",\"2022-09-06 10:55:00\",\"2022-09-06 11:00:00\",\"2022-09-06 11:05:00\",\"2022-09-06 11:10:00\",\"2022-09-06 11:15:00\",\"2022-09-06 11:20:00\",\"2022-09-06 11:25:00\",\"2022-09-06 11:30:00\",\"2022-09-06 11:35:00\",\"2022-09-06 11:40:00\",\"2022-09-06 11:45:00\",\"2022-09-06 11:50:00\",\"2022-09-06 11:55:00\",\"2022-09-06 12:00:00\",\"2022-09-06 12:05:00\",\"2022-09-06 12:10:00\",\"2022-09-06 12:15:00\",\"2022-09-06 12:20:00\",\"2022-09-06 12:25:00\",\"2022-09-06 12:30:00\",\"2022-09-06 12:35:00\",\"2022-09-06 12:40:00\",\"2022-09-06 12:45:00\",\"2022-09-06 12:50:00\",\"2022-09-06 12:55:00\",\"2022-09-06 13:00:00\",\"2022-09-06 13:05:00\",\"2022-09-06 13:10:00\",\"2022-09-06 13:15:00\",\"2022-09-06 13:20:00\",\"2022-09-06 13:25:00\",\"2022-09-06 13:30:00\",\"2022-09-06 13:35:00\",\"2022-09-06 13:40:00\",\"2022-09-06 13:45:00\",\"2022-09-06 13:50:00\",\"2022-09-06 13:55:00\",\"2022-09-06 14:00:00\",\"2022-09-06 14:05:00\",\"2022-09-06 14:10:00\",\"2022-09-06 14:15:00\",\"2022-09-06 14:20:00\",\"2022-09-06 14:25:00\",\"2022-09-06 14:30:00\",\"2022-09-06 14:35:00\",\"2022-09-06 14:40:00\",\"2022-09-06 14:45:00\",\"2022-09-06 14:50:00\",\"2022-09-06 14:55:00\",\"2022-09-06 15:00:00\",\"2022-09-06 15:05:00\",\"2022-09-06 15:10:00\",\"2022-09-06 15:15:00\",\"2022-09-06 15:20:00\",\"2022-09-06 15:25:00\"],\"type\":\"candlestick\"},{\"marker\":{\"color\":\"green\",\"size\":10,\"symbol\":\"square-dot\"},\"mode\":\"markers\",\"name\":\"Trendline\",\"x\":[\"2022-09-05 14:45:00\",\"2022-09-05 14:50:00\",\"2022-09-05 14:55:00\",\"2022-09-05 15:00:00\",\"2022-09-05 15:05:00\",\"2022-09-05 15:10:00\",\"2022-09-05 15:15:00\",\"2022-09-05 15:20:00\",\"2022-09-05 15:25:00\",\"2022-09-05 15:30:00\",\"2022-09-06 10:15:00\",\"2022-09-06 10:20:00\",\"2022-09-06 10:25:00\",\"2022-09-06 10:30:00\",\"2022-09-06 10:35:00\",\"2022-09-06 10:40:00\",\"2022-09-06 10:45:00\",\"2022-09-06 10:50:00\",\"2022-09-06 10:55:00\",\"2022-09-06 11:00:00\",\"2022-09-06 11:05:00\",\"2022-09-06 11:10:00\",\"2022-09-06 11:15:00\",\"2022-09-06 11:20:00\",\"2022-09-06 11:25:00\",\"2022-09-06 11:30:00\",\"2022-09-06 11:35:00\",\"2022-09-06 11:40:00\",\"2022-09-06 11:45:00\",\"2022-09-06 11:50:00\",\"2022-09-06 11:55:00\",\"2022-09-06 12:00:00\",\"2022-09-06 12:05:00\",\"2022-09-06 12:10:00\",\"2022-09-06 12:15:00\",\"2022-09-06 12:20:00\",\"2022-09-06 12:25:00\",\"2022-09-06 12:30:00\",\"2022-09-06 12:35:00\",\"2022-09-06 12:40:00\",\"2022-09-06 12:45:00\",\"2022-09-06 12:50:00\",\"2022-09-06 12:55:00\",\"2022-09-06 13:00:00\",\"2022-09-06 13:05:00\",\"2022-09-06 13:10:00\",\"2022-09-06 13:15:00\",\"2022-09-06 13:20:00\",\"2022-09-06 13:25:00\",\"2022-09-06 13:30:00\",\"2022-09-06 13:35:00\",\"2022-09-06 13:40:00\",\"2022-09-06 13:45:00\",\"2022-09-06 13:50:00\",\"2022-09-06 13:55:00\",\"2022-09-06 14:00:00\",\"2022-09-06 14:05:00\",\"2022-09-06 14:10:00\",\"2022-09-06 14:15:00\",\"2022-09-06 14:20:00\",\"2022-09-06 14:25:00\",\"2022-09-06 14:30:00\",\"2022-09-06 14:35:00\",\"2022-09-06 14:40:00\",\"2022-09-06 14:45:00\",\"2022-09-06 14:50:00\",\"2022-09-06 14:55:00\",\"2022-09-06 15:00:00\",\"2022-09-06 15:05:00\",\"2022-09-06 15:10:00\",\"2022-09-06 15:15:00\",\"2022-09-06 15:20:00\",\"2022-09-06 15:25:00\"],\"y\":[17656.72978129117,17657.307931894193,17657.611153722282,17657.71100854701,17657.86821326821,17658.156536216018,17658.48464696223,17658.74174876847,17658.806666666667,17658.672298850575,17658.229770114944,17657.426666666666,17656.273333333334,17654.678387096774,17653.239677419355,17651.74494623656,17650.541935483874,17649.522580645164,17648.945161290325,17648.62172043011,17648.603978494626,17648.533474230626,17648.185566502467,17647.481885604815,17646.640056559023,17645.60119047619,17644.545703703705,17643.668074074074,17642.65197826087,17642.101260869567,17642.16734189723,17643.013241106717,17644.73300395257,17648.11515151515,17652.36168831169,17656.90541125541,17661.5,17665.804761904765,17669.942857142858,17674.675238095235,17678.033809523808,17680.820952380953,17683.04142857143,17684.422077922078,17685.55909090909,17686.262827028044,17686.66811594203,17687.50614295125,17688.20042753623,17688.98785897436,17689.52449145299,17689.8267985348,17690.32255799756,17691.07817460318,17692.46693121693,17693.692724867728,17694.777645502643,17695.515384615384,17695.837464387463,17695.96324786325,17696.361965811964,17696.500284900285,17695.873988603988,17694.13102564102,17691.730192307692,17689.139848484847,17686.839231601734,17684.757662337663,17682.40482114377,17679.76016708438,17677.481169590646,17675.383918128653,17672.8637254902],\"type\":\"scatter\"},{\"name\":\"position\",\"x\":[\"2022-09-05 14:45:00\",\"2022-09-05 14:50:00\",\"2022-09-05 14:55:00\",\"2022-09-05 15:00:00\",\"2022-09-05 15:05:00\",\"2022-09-05 15:10:00\",\"2022-09-05 15:15:00\",\"2022-09-05 15:20:00\",\"2022-09-05 15:25:00\",\"2022-09-05 15:30:00\",\"2022-09-06 10:15:00\",\"2022-09-06 10:20:00\",\"2022-09-06 10:25:00\",\"2022-09-06 10:30:00\",\"2022-09-06 10:35:00\",\"2022-09-06 10:40:00\",\"2022-09-06 10:45:00\",\"2022-09-06 10:50:00\",\"2022-09-06 10:55:00\",\"2022-09-06 11:00:00\",\"2022-09-06 11:05:00\",\"2022-09-06 11:10:00\",\"2022-09-06 11:15:00\",\"2022-09-06 11:20:00\",\"2022-09-06 11:25:00\",\"2022-09-06 11:30:00\",\"2022-09-06 11:35:00\",\"2022-09-06 11:40:00\",\"2022-09-06 11:45:00\",\"2022-09-06 11:50:00\",\"2022-09-06 11:55:00\",\"2022-09-06 12:00:00\",\"2022-09-06 12:05:00\",\"2022-09-06 12:10:00\",\"2022-09-06 12:15:00\",\"2022-09-06 12:20:00\",\"2022-09-06 12:25:00\",\"2022-09-06 12:30:00\",\"2022-09-06 12:35:00\",\"2022-09-06 12:40:00\",\"2022-09-06 12:45:00\",\"2022-09-06 12:50:00\",\"2022-09-06 12:55:00\",\"2022-09-06 13:00:00\",\"2022-09-06 13:05:00\",\"2022-09-06 13:10:00\",\"2022-09-06 13:15:00\",\"2022-09-06 13:20:00\",\"2022-09-06 13:25:00\",\"2022-09-06 13:30:00\",\"2022-09-06 13:35:00\",\"2022-09-06 13:40:00\",\"2022-09-06 13:45:00\",\"2022-09-06 13:50:00\",\"2022-09-06 13:55:00\",\"2022-09-06 14:00:00\",\"2022-09-06 14:05:00\",\"2022-09-06 14:10:00\",\"2022-09-06 14:15:00\",\"2022-09-06 14:20:00\",\"2022-09-06 14:25:00\",\"2022-09-06 14:30:00\",\"2022-09-06 14:35:00\",\"2022-09-06 14:40:00\",\"2022-09-06 14:45:00\",\"2022-09-06 14:50:00\",\"2022-09-06 14:55:00\",\"2022-09-06 15:00:00\",\"2022-09-06 15:05:00\",\"2022-09-06 15:10:00\",\"2022-09-06 15:15:00\",\"2022-09-06 15:20:00\",\"2022-09-06 15:25:00\"],\"y\":[1,1,1,1,1,1,1,1,1,1,-1,-1,-1,-1,-1,-1,-1,-1,-1,-1,-1,-1,-1,-1,-1,-1,-1,-1,-1,-1,-1,-1,1,1,1,1,1,1,1,1,1,1,1,1,1,1,1,1,1,1,1,1,1,1,1,1,1,1,1,1,1,1,1,-1,-1,-1,-1,-1,-1,-1,-1,-1,-1],\"type\":\"scatter\",\"xaxis\":\"x\",\"yaxis\":\"y2\"}],                        {\"template\":{\"data\":{\"bar\":[{\"error_x\":{\"color\":\"#2a3f5f\"},\"error_y\":{\"color\":\"#2a3f5f\"},\"marker\":{\"line\":{\"color\":\"#E5ECF6\",\"width\":0.5},\"pattern\":{\"fillmode\":\"overlay\",\"size\":10,\"solidity\":0.2}},\"type\":\"bar\"}],\"barpolar\":[{\"marker\":{\"line\":{\"color\":\"#E5ECF6\",\"width\":0.5},\"pattern\":{\"fillmode\":\"overlay\",\"size\":10,\"solidity\":0.2}},\"type\":\"barpolar\"}],\"carpet\":[{\"aaxis\":{\"endlinecolor\":\"#2a3f5f\",\"gridcolor\":\"white\",\"linecolor\":\"white\",\"minorgridcolor\":\"white\",\"startlinecolor\":\"#2a3f5f\"},\"baxis\":{\"endlinecolor\":\"#2a3f5f\",\"gridcolor\":\"white\",\"linecolor\":\"white\",\"minorgridcolor\":\"white\",\"startlinecolor\":\"#2a3f5f\"},\"type\":\"carpet\"}],\"choropleth\":[{\"colorbar\":{\"outlinewidth\":0,\"ticks\":\"\"},\"type\":\"choropleth\"}],\"contour\":[{\"colorbar\":{\"outlinewidth\":0,\"ticks\":\"\"},\"colorscale\":[[0.0,\"#0d0887\"],[0.1111111111111111,\"#46039f\"],[0.2222222222222222,\"#7201a8\"],[0.3333333333333333,\"#9c179e\"],[0.4444444444444444,\"#bd3786\"],[0.5555555555555556,\"#d8576b\"],[0.6666666666666666,\"#ed7953\"],[0.7777777777777778,\"#fb9f3a\"],[0.8888888888888888,\"#fdca26\"],[1.0,\"#f0f921\"]],\"type\":\"contour\"}],\"contourcarpet\":[{\"colorbar\":{\"outlinewidth\":0,\"ticks\":\"\"},\"type\":\"contourcarpet\"}],\"heatmap\":[{\"colorbar\":{\"outlinewidth\":0,\"ticks\":\"\"},\"colorscale\":[[0.0,\"#0d0887\"],[0.1111111111111111,\"#46039f\"],[0.2222222222222222,\"#7201a8\"],[0.3333333333333333,\"#9c179e\"],[0.4444444444444444,\"#bd3786\"],[0.5555555555555556,\"#d8576b\"],[0.6666666666666666,\"#ed7953\"],[0.7777777777777778,\"#fb9f3a\"],[0.8888888888888888,\"#fdca26\"],[1.0,\"#f0f921\"]],\"type\":\"heatmap\"}],\"heatmapgl\":[{\"colorbar\":{\"outlinewidth\":0,\"ticks\":\"\"},\"colorscale\":[[0.0,\"#0d0887\"],[0.1111111111111111,\"#46039f\"],[0.2222222222222222,\"#7201a8\"],[0.3333333333333333,\"#9c179e\"],[0.4444444444444444,\"#bd3786\"],[0.5555555555555556,\"#d8576b\"],[0.6666666666666666,\"#ed7953\"],[0.7777777777777778,\"#fb9f3a\"],[0.8888888888888888,\"#fdca26\"],[1.0,\"#f0f921\"]],\"type\":\"heatmapgl\"}],\"histogram\":[{\"marker\":{\"pattern\":{\"fillmode\":\"overlay\",\"size\":10,\"solidity\":0.2}},\"type\":\"histogram\"}],\"histogram2d\":[{\"colorbar\":{\"outlinewidth\":0,\"ticks\":\"\"},\"colorscale\":[[0.0,\"#0d0887\"],[0.1111111111111111,\"#46039f\"],[0.2222222222222222,\"#7201a8\"],[0.3333333333333333,\"#9c179e\"],[0.4444444444444444,\"#bd3786\"],[0.5555555555555556,\"#d8576b\"],[0.6666666666666666,\"#ed7953\"],[0.7777777777777778,\"#fb9f3a\"],[0.8888888888888888,\"#fdca26\"],[1.0,\"#f0f921\"]],\"type\":\"histogram2d\"}],\"histogram2dcontour\":[{\"colorbar\":{\"outlinewidth\":0,\"ticks\":\"\"},\"colorscale\":[[0.0,\"#0d0887\"],[0.1111111111111111,\"#46039f\"],[0.2222222222222222,\"#7201a8\"],[0.3333333333333333,\"#9c179e\"],[0.4444444444444444,\"#bd3786\"],[0.5555555555555556,\"#d8576b\"],[0.6666666666666666,\"#ed7953\"],[0.7777777777777778,\"#fb9f3a\"],[0.8888888888888888,\"#fdca26\"],[1.0,\"#f0f921\"]],\"type\":\"histogram2dcontour\"}],\"mesh3d\":[{\"colorbar\":{\"outlinewidth\":0,\"ticks\":\"\"},\"type\":\"mesh3d\"}],\"parcoords\":[{\"line\":{\"colorbar\":{\"outlinewidth\":0,\"ticks\":\"\"}},\"type\":\"parcoords\"}],\"pie\":[{\"automargin\":true,\"type\":\"pie\"}],\"scatter\":[{\"marker\":{\"colorbar\":{\"outlinewidth\":0,\"ticks\":\"\"}},\"type\":\"scatter\"}],\"scatter3d\":[{\"line\":{\"colorbar\":{\"outlinewidth\":0,\"ticks\":\"\"}},\"marker\":{\"colorbar\":{\"outlinewidth\":0,\"ticks\":\"\"}},\"type\":\"scatter3d\"}],\"scattercarpet\":[{\"marker\":{\"colorbar\":{\"outlinewidth\":0,\"ticks\":\"\"}},\"type\":\"scattercarpet\"}],\"scattergeo\":[{\"marker\":{\"colorbar\":{\"outlinewidth\":0,\"ticks\":\"\"}},\"type\":\"scattergeo\"}],\"scattergl\":[{\"marker\":{\"colorbar\":{\"outlinewidth\":0,\"ticks\":\"\"}},\"type\":\"scattergl\"}],\"scattermapbox\":[{\"marker\":{\"colorbar\":{\"outlinewidth\":0,\"ticks\":\"\"}},\"type\":\"scattermapbox\"}],\"scatterpolar\":[{\"marker\":{\"colorbar\":{\"outlinewidth\":0,\"ticks\":\"\"}},\"type\":\"scatterpolar\"}],\"scatterpolargl\":[{\"marker\":{\"colorbar\":{\"outlinewidth\":0,\"ticks\":\"\"}},\"type\":\"scatterpolargl\"}],\"scatterternary\":[{\"marker\":{\"colorbar\":{\"outlinewidth\":0,\"ticks\":\"\"}},\"type\":\"scatterternary\"}],\"surface\":[{\"colorbar\":{\"outlinewidth\":0,\"ticks\":\"\"},\"colorscale\":[[0.0,\"#0d0887\"],[0.1111111111111111,\"#46039f\"],[0.2222222222222222,\"#7201a8\"],[0.3333333333333333,\"#9c179e\"],[0.4444444444444444,\"#bd3786\"],[0.5555555555555556,\"#d8576b\"],[0.6666666666666666,\"#ed7953\"],[0.7777777777777778,\"#fb9f3a\"],[0.8888888888888888,\"#fdca26\"],[1.0,\"#f0f921\"]],\"type\":\"surface\"}],\"table\":[{\"cells\":{\"fill\":{\"color\":\"#EBF0F8\"},\"line\":{\"color\":\"white\"}},\"header\":{\"fill\":{\"color\":\"#C8D4E3\"},\"line\":{\"color\":\"white\"}},\"type\":\"table\"}]},\"layout\":{\"annotationdefaults\":{\"arrowcolor\":\"#2a3f5f\",\"arrowhead\":0,\"arrowwidth\":1},\"autotypenumbers\":\"strict\",\"coloraxis\":{\"colorbar\":{\"outlinewidth\":0,\"ticks\":\"\"}},\"colorscale\":{\"diverging\":[[0,\"#8e0152\"],[0.1,\"#c51b7d\"],[0.2,\"#de77ae\"],[0.3,\"#f1b6da\"],[0.4,\"#fde0ef\"],[0.5,\"#f7f7f7\"],[0.6,\"#e6f5d0\"],[0.7,\"#b8e186\"],[0.8,\"#7fbc41\"],[0.9,\"#4d9221\"],[1,\"#276419\"]],\"sequential\":[[0.0,\"#0d0887\"],[0.1111111111111111,\"#46039f\"],[0.2222222222222222,\"#7201a8\"],[0.3333333333333333,\"#9c179e\"],[0.4444444444444444,\"#bd3786\"],[0.5555555555555556,\"#d8576b\"],[0.6666666666666666,\"#ed7953\"],[0.7777777777777778,\"#fb9f3a\"],[0.8888888888888888,\"#fdca26\"],[1.0,\"#f0f921\"]],\"sequentialminus\":[[0.0,\"#0d0887\"],[0.1111111111111111,\"#46039f\"],[0.2222222222222222,\"#7201a8\"],[0.3333333333333333,\"#9c179e\"],[0.4444444444444444,\"#bd3786\"],[0.5555555555555556,\"#d8576b\"],[0.6666666666666666,\"#ed7953\"],[0.7777777777777778,\"#fb9f3a\"],[0.8888888888888888,\"#fdca26\"],[1.0,\"#f0f921\"]]},\"colorway\":[\"#636efa\",\"#EF553B\",\"#00cc96\",\"#ab63fa\",\"#FFA15A\",\"#19d3f3\",\"#FF6692\",\"#B6E880\",\"#FF97FF\",\"#FECB52\"],\"font\":{\"color\":\"#2a3f5f\"},\"geo\":{\"bgcolor\":\"white\",\"lakecolor\":\"white\",\"landcolor\":\"#E5ECF6\",\"showlakes\":true,\"showland\":true,\"subunitcolor\":\"white\"},\"hoverlabel\":{\"align\":\"left\"},\"hovermode\":\"closest\",\"mapbox\":{\"style\":\"light\"},\"paper_bgcolor\":\"white\",\"plot_bgcolor\":\"#E5ECF6\",\"polar\":{\"angularaxis\":{\"gridcolor\":\"white\",\"linecolor\":\"white\",\"ticks\":\"\"},\"bgcolor\":\"#E5ECF6\",\"radialaxis\":{\"gridcolor\":\"white\",\"linecolor\":\"white\",\"ticks\":\"\"}},\"scene\":{\"xaxis\":{\"backgroundcolor\":\"#E5ECF6\",\"gridcolor\":\"white\",\"gridwidth\":2,\"linecolor\":\"white\",\"showbackground\":true,\"ticks\":\"\",\"zerolinecolor\":\"white\"},\"yaxis\":{\"backgroundcolor\":\"#E5ECF6\",\"gridcolor\":\"white\",\"gridwidth\":2,\"linecolor\":\"white\",\"showbackground\":true,\"ticks\":\"\",\"zerolinecolor\":\"white\"},\"zaxis\":{\"backgroundcolor\":\"#E5ECF6\",\"gridcolor\":\"white\",\"gridwidth\":2,\"linecolor\":\"white\",\"showbackground\":true,\"ticks\":\"\",\"zerolinecolor\":\"white\"}},\"shapedefaults\":{\"line\":{\"color\":\"#2a3f5f\"}},\"ternary\":{\"aaxis\":{\"gridcolor\":\"white\",\"linecolor\":\"white\",\"ticks\":\"\"},\"baxis\":{\"gridcolor\":\"white\",\"linecolor\":\"white\",\"ticks\":\"\"},\"bgcolor\":\"#E5ECF6\",\"caxis\":{\"gridcolor\":\"white\",\"linecolor\":\"white\",\"ticks\":\"\"}},\"title\":{\"x\":0.05},\"xaxis\":{\"automargin\":true,\"gridcolor\":\"white\",\"linecolor\":\"white\",\"ticks\":\"\",\"title\":{\"standoff\":15},\"zerolinecolor\":\"white\",\"zerolinewidth\":2},\"yaxis\":{\"automargin\":true,\"gridcolor\":\"white\",\"linecolor\":\"white\",\"ticks\":\"\",\"title\":{\"standoff\":15},\"zerolinecolor\":\"white\",\"zerolinewidth\":2}}},\"xaxis\":{\"anchor\":\"y\",\"domain\":[0.0,0.94],\"rangeslider\":{\"visible\":false},\"type\":\"category\"},\"yaxis\":{\"anchor\":\"x\",\"domain\":[0.0,1.0],\"title\":{\"text\":\"Price\"}},\"yaxis2\":{\"anchor\":\"x\",\"overlaying\":\"y\",\"side\":\"right\"},\"width\":800,\"height\":600,\"title\":{\"text\":\"Nifty\"}},                        {\"responsive\": true}                    ).then(function(){\n",
              "                            \n",
              "var gd = document.getElementById('d0e49a99-6cb1-4faf-aa33-256cee5ad6f8');\n",
              "var x = new MutationObserver(function (mutations, observer) {{\n",
              "        var display = window.getComputedStyle(gd).display;\n",
              "        if (!display || display === 'none') {{\n",
              "            console.log([gd, 'removed!']);\n",
              "            Plotly.purge(gd);\n",
              "            observer.disconnect();\n",
              "        }}\n",
              "}});\n",
              "\n",
              "// Listen for the removal of the full notebook cells\n",
              "var notebookContainer = gd.closest('#notebook-container');\n",
              "if (notebookContainer) {{\n",
              "    x.observe(notebookContainer, {childList: true});\n",
              "}}\n",
              "\n",
              "// Listen for the clearing of the current output cell\n",
              "var outputEl = gd.closest('.output');\n",
              "if (outputEl) {{\n",
              "    x.observe(outputEl, {childList: true});\n",
              "}}\n",
              "\n",
              "                        })                };                });            </script>        </div>"
            ]
          },
          "metadata": {},
          "output_type": "display_data"
        }
      ],
      "source": [
        "x = df.index.tolist()\n",
        "fig = make_subplots(specs=[[{\"secondary_y\": True}]])\n",
        "fig.add_trace(go.Candlestick(x=df.index,\n",
        "                open=df.Open, high=df.High,\n",
        "                low=df.Low, close=df.Close))\n",
        "\n",
        "fig.update_layout(xaxis_rangeslider_visible=False)\n",
        "fig.update_layout(\n",
        "    width=800, height=600,\n",
        "    title=\"Nifty\",\n",
        "    yaxis_title='Price',\n",
        "    xaxis=dict(type = \"category\")\n",
        ")\n",
        "\n",
        "fig.add_trace(go.Scatter(\n",
        "    x=x,\n",
        "    y=df.trend,\n",
        "    name ='Trendline',\n",
        "    mode=\"markers\",\n",
        "    marker_size=10,\n",
        "    marker = dict(color='green', symbol = \"square-dot\")\n",
        "))\n",
        "\n",
        "y = df['position'].tolist()\n",
        "#y = df['deg'].tolist()\n",
        "fig.add_trace(go.Scatter(x=df.index, y=y, name=\"position\"),\n",
        "secondary_y=True,)\n",
        "\n",
        "fig.show()"
      ]
    },
    {
      "cell_type": "code",
      "execution_count": null,
      "id": "466f78e0",
      "metadata": {
        "id": "466f78e0"
      },
      "outputs": [],
      "source": []
    }
  ],
  "metadata": {
    "kernelspec": {
      "display_name": "Python 3 (ipykernel)",
      "language": "python",
      "name": "python3"
    },
    "language_info": {
      "codemirror_mode": {
        "name": "ipython",
        "version": 3
      },
      "file_extension": ".py",
      "mimetype": "text/x-python",
      "name": "python",
      "nbconvert_exporter": "python",
      "pygments_lexer": "ipython3",
      "version": "3.9.12"
    },
    "colab": {
      "provenance": [],
      "include_colab_link": true
    }
  },
  "nbformat": 4,
  "nbformat_minor": 5
}